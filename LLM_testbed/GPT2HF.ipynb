{
 "cells": [
  {
   "cell_type": "code",
   "execution_count": 1,
   "id": "5b53140a-0012-43da-9a81-7c30d3d74cbc",
   "metadata": {},
   "outputs": [
    {
     "name": "stderr",
     "output_type": "stream",
     "text": [
      "/usr/local/python/3.12.1/lib/python3.12/site-packages/tqdm/auto.py:21: TqdmWarning: IProgress not found. Please update jupyter and ipywidgets. See https://ipywidgets.readthedocs.io/en/stable/user_install.html\n",
      "  from .autonotebook import tqdm as notebook_tqdm\n"
     ]
    }
   ],
   "source": [
    "from transformers import pipeline, set_seed"
   ]
  },
  {
   "cell_type": "code",
   "execution_count": 4,
   "id": "2db73d5a-0e91-416f-8bb6-e389c99d114e",
   "metadata": {},
   "outputs": [
    {
     "name": "stderr",
     "output_type": "stream",
     "text": [
      "Device set to use cpu\n",
      "Truncation was not explicitly activated but `max_length` is provided a specific value, please use `truncation=True` to explicitly truncate examples to max length. Defaulting to 'longest_first' truncation strategy. If you encode pairs of sequences (GLUE-style) with the tokenizer you can select this strategy more precisely by providing a specific strategy to `truncation`.\n",
      "Setting `pad_token_id` to `eos_token_id`:50256 for open-end generation.\n",
      "Both `max_new_tokens` (=256) and `max_length`(=5) seem to have been set. `max_new_tokens` will take precedence. Please refer to the documentation for more information. (https://huggingface.co/docs/transformers/main/en/main_classes/text_generation)\n"
     ]
    },
    {
     "name": "stdout",
     "output_type": "stream",
     "text": [
      "1.Hello, how are you doing?\n",
      "\n",
      "I'm really glad to hear that.\n",
      "\n",
      "How is this going?\n",
      "\n",
      "All things considered, you should be able to take care of yourself and your family by yourself in the near future.\n",
      "\n",
      "Are you able to travel anywhere?\n",
      "\n",
      "Yes! So, what about traveling abroad?\n",
      "\n",
      "Well, not as far as I know. I have a girlfriend from Australia, who I'm going to marry.\n",
      "\n",
      "How can I get married?\n",
      "\n",
      "Well, you really need to get married in Australia.\n",
      "\n",
      "What's your plan for this trip?\n",
      "\n",
      "I'm going to fly to New Zealand to make up for all the lost time I've been spending in Europe.\n",
      "\n",
      "What's the best thing you've done for this trip?\n",
      "\n",
      "What's my favorite thing about this trip?\n",
      "\n",
      "We're going to the New Zealand Museum of Science and Technology.\n",
      "\n",
      "Do you have any other tips or suggestions for anyone coming to the museum?\n",
      "\n",
      "It's really difficult to find the right person.\n",
      "\n",
      "Who are you working with?\n",
      "\n",
      "A new friend.\n",
      "\n",
      "What's going on with you?\n",
      "\n",
      "My family is from Argentina, so I'm really happy that I'm alive.\n",
      "2.Hello, how are you? A little girl? You're so young, aren't you? Is that your name? I mean, I'm so happy that I'm a girl.\"\n",
      "\n",
      "\"You're a little girl, a little girl,\" I said, giving her a big smile. \"You're a little girl, I'm a girl. That's what I wanted to say.\"\n",
      "\n",
      "\"What do you want?\" he asked, his face still flushed. \"I'm a girl.\"\n",
      "\n",
      "\"And what are you?\" I asked, getting more and more excited. \"I'm a girl,\" he said, his voice a little more melodic now, \"I'm a girl, I'm a girl. I'm a girl.\"\n",
      "\n",
      "He looked at me with a curious expression. \"Why are you so curious?\"\n",
      "\n",
      "\"Because I'm a girl,\" I said, and I felt so relieved, because I knew it was just me, my little girl, who was feeling so good about herself. But I also knew it was because I was a little girl, and I had to go with him.\n",
      "\n",
      "I felt like I was going to be a star in my own right. I wasn't going to tell anyone about what I was doing. I\n",
      "3.Hello, how are you? Can't you give me your name?\n",
      "\n",
      "I can't tell you how I came here.\n",
      "\n",
      "You were at the farm. I had a friend here. I said to you, \"You are a farmer. You see what I am talking about. Please take me to the farm.\"\n",
      "\n",
      "And I said, \"Yeah.\" And I was like, \"I don't know why you want to come here. I know you have a lot of friends here. You like farming. You are a farmer.\"\n",
      "\n",
      "And I was like, \"I don't know what I'm talking about.\"\n",
      "\n",
      "And I was like, \"I don't know what I'm doing.\"\n",
      "\n",
      "And I was like, \"I don't know what I'm doing.\"\n",
      "\n",
      "But I'm a farmer. I was like, \"I am a farmer.\"\n",
      "\n",
      "And I was like, \"I have a lot of friends here.\"\n",
      "\n",
      "I was like, \"I'm a farmer.\"\n",
      "\n",
      "And I was like, \"I can look at you and say, \"I am a farmer, I'm a farmer.\"\n",
      "\n",
      "And I have a lot of friends here. I'm like, \"I don't know why you want to\n",
      "4.Hello, how are you? This is what I'm doing here. I'm going to talk to you about something new and interesting, and your attention will be directed to this story.\n",
      "\n",
      "[Laughs]\n",
      "\n",
      "NARRATOR: I'm not sure what's going on. You know, you went to college, you're twenty-three. You've seen the movie. You've been reading about it. But you don't know much about the story.\n",
      "\n",
      "[Laughs]\n",
      "\n",
      "NARRATOR: You've seen it in a movie, you've never seen it in a book, you've never read it by yourself. It's not about your parents. It's about a man who's going through hell.\n",
      "\n",
      "[Laughs]\n",
      "\n",
      "NARRATOR: He's going through hell, not only because he's got a lot more money than you, but because he's not supposed to be here by himself. He's going through hell because he can't get a job.\n",
      "\n",
      "He's going through hell because he's going through hell because he can't get a job because his parents don't care about him.\n",
      "\n",
      "They're all going through hell because he's going through hell because he feels so bad about it.\n",
      "\n",
      "[Laughs]\n",
      "\n",
      "5.Hello, how are you doing?\n",
      "\n",
      "Maurice: Well, I've been a little tired lately. I'm very tired. I've been in a lot of pain. I've been kind of frustrated with myself. But I've been in a lot of pain for a long time.\n",
      "\n",
      "CJ: Is it a good feeling now, or do you have some relief?\n",
      "\n",
      "Maurice: I don't have any relief. I just have a little relief. And I've been at a bit of a loss. I don't know how to explain it but I know that it's very hard. But I feel very good. I feel like I'm in a place where I'm getting my bearings again, and I believe that this is the time that I'm going to be able to do it.\n",
      "\n",
      "Diana: It's going to be hard for me, but it's going to be hard for you.\n",
      "\n",
      "Maurice: Yeah, yeah. I'm very glad. You know, that's my big deal. I've been very busy. I'm doing really well. I'm going to try to do a lot of things that I've been doing for quite a while now. I feel like I'm in a good place.\n"
     ]
    }
   ],
   "source": [
    "# Chat GPT 2\n",
    "generator = pipeline('text-generation', model='gpt2')\n",
    "\n",
    "set_seed(101)\n",
    "generated_text = generator('Hello, how are', max_length=5, num_return_sequences=5)\n",
    "\n",
    "for i, sample_output in enumerate(generated_text):\n",
    "    print(f\"{i+1}.{sample_output['generated_text']}\")"
   ]
  },
  {
   "cell_type": "code",
   "execution_count": 6,
   "id": "d19f8a64-c0b0-42ed-8ea1-632b6416273f",
   "metadata": {},
   "outputs": [
    {
     "name": "stderr",
     "output_type": "stream",
     "text": [
      "Some weights of the model checkpoint at bert-large-uncased-whole-word-masking-finetuned-squad were not used when initializing BertForQuestionAnswering: ['bert.pooler.dense.bias', 'bert.pooler.dense.weight']\n",
      "- This IS expected if you are initializing BertForQuestionAnswering from the checkpoint of a model trained on another task or with another architecture (e.g. initializing a BertForSequenceClassification model from a BertForPreTraining model).\n",
      "- This IS NOT expected if you are initializing BertForQuestionAnswering from the checkpoint of a model that you expect to be exactly identical (initializing a BertForSequenceClassification model from a BertForSequenceClassification model).\n",
      "Device set to use cpu\n"
     ]
    },
    {
     "name": "stdout",
     "output_type": "stream",
     "text": [
      "Question: What is the answer to the question?\n",
      "Answer: The quick brown fox jumps over the lazy dog. This sentence\n"
     ]
    }
   ],
   "source": [
    "# BERT\n",
    "from transformers import pipeline\n",
    "question_answer = pipeline('question-answering', model='bert-large-uncased-whole-word-masking-finetuned-squad')\n",
    "context = \"The quick brown fox jumps over the lazy dog. This sentence contains the answer to the question.\"\n",
    "question = \"What is the answer to the question?\"\n",
    "result = question_answer(question=question, context=context)\n",
    "\n",
    "print(f\"Question: {question}\")\n",
    "print(f\"Answer: {result['answer']}\")"
   ]
  },
  {
   "cell_type": "code",
   "execution_count": 8,
   "id": "7e91212f-919b-4d06-9933-a534eba0682c",
   "metadata": {},
   "outputs": [
    {
     "name": "stderr",
     "output_type": "stream",
     "text": [
      "Device set to use cpu\n"
     ]
    },
    {
     "name": "stdout",
     "output_type": "stream",
     "text": [
      "Input text:Hello, how are you?\n",
      "Translated text: Bonjour, comment êtes-vous?\n"
     ]
    }
   ],
   "source": [
    "# T5 : TExt-to_text transfer transformer\n",
    "\n",
    "from transformers import pipeline\n",
    "\n",
    "translator = pipeline('translation_en_to_fr', model='t5-base')\n",
    "english_text = \"Hello, how are you?\"\n",
    "\n",
    "result = translator(engligh_text)\n",
    "\n",
    "print(f\"Input text:{english_text}\")\n",
    "print(f\"Translated text: {result[0]['translation_text']}\")"
   ]
  },
  {
   "cell_type": "code",
   "execution_count": null,
   "id": "1f17f816-f494-4944-916b-11b3b39b10eb",
   "metadata": {},
   "outputs": [],
   "source": []
  }
 ],
 "metadata": {
  "kernelspec": {
   "display_name": "Python 3 (ipykernel)",
   "language": "python",
   "name": "python3"
  },
  "language_info": {
   "codemirror_mode": {
    "name": "ipython",
    "version": 3
   },
   "file_extension": ".py",
   "mimetype": "text/x-python",
   "name": "python",
   "nbconvert_exporter": "python",
   "pygments_lexer": "ipython3",
   "version": "3.12.1"
  }
 },
 "nbformat": 4,
 "nbformat_minor": 5
}
