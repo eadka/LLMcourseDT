{
 "cells": [
  {
   "cell_type": "markdown",
   "id": "f8fe5bd7-8b64-4413-bf07-cea8b213daef",
   "metadata": {},
   "source": [
    "## Q1. Embedding the query"
   ]
  },
  {
   "cell_type": "code",
   "execution_count": 1,
   "id": "77667780-0c6f-44aa-ac04-c4840f5793ff",
   "metadata": {},
   "outputs": [
    {
     "name": "stderr",
     "output_type": "stream",
     "text": [
      "/usr/local/python/3.12.1/lib/python3.12/site-packages/tqdm/auto.py:21: TqdmWarning: IProgress not found. Please update jupyter and ipywidgets. See https://ipywidgets.readthedocs.io/en/stable/user_install.html\n",
      "  from .autonotebook import tqdm as notebook_tqdm\n"
     ]
    }
   ],
   "source": [
    "from fastembed import TextEmbedding"
   ]
  },
  {
   "cell_type": "code",
   "execution_count": 2,
   "id": "e8c9cd1c-9d31-4573-8c85-3c87e5c9d238",
   "metadata": {},
   "outputs": [
    {
     "name": "stderr",
     "output_type": "stream",
     "text": [
      "Fetching 5 files: 100%|█████████████████████████████████████████████████████████████████████████████████████████████████████████████████████████████████████████████████████| 5/5 [00:11<00:00,  2.22s/it]\n"
     ]
    }
   ],
   "source": [
    "embedding_model = TextEmbedding('jinaai/jina-embeddings-v2-small-en')"
   ]
  },
  {
   "cell_type": "code",
   "execution_count": 3,
   "id": "71a10f16-f7ef-4de7-bcf8-3097b095e0dc",
   "metadata": {},
   "outputs": [
    {
     "data": {
      "text/plain": [
       "512"
      ]
     },
     "execution_count": 3,
     "metadata": {},
     "output_type": "execute_result"
    }
   ],
   "source": [
    "embedding_model.embedding_size"
   ]
  },
  {
   "cell_type": "code",
   "execution_count": 4,
   "id": "b3e65467-3411-4c77-a893-db3e910e65c5",
   "metadata": {},
   "outputs": [],
   "source": [
    "question = 'I just discovered the course. Can I join now?'"
   ]
  },
  {
   "cell_type": "code",
   "execution_count": 5,
   "id": "6bb01b14-f521-44de-a133-d7fbde42ff27",
   "metadata": {},
   "outputs": [],
   "source": [
    "from typing import List\n",
    "import numpy as np\n",
    "\n",
    "documents: List[str] = [\n",
    "    \"I just discovered the course. Can I join now?\"\n",
    "]"
   ]
  },
  {
   "cell_type": "code",
   "execution_count": 6,
   "id": "85606b10-56f4-4fcf-934a-a2658daf3262",
   "metadata": {},
   "outputs": [
    {
     "data": {
      "text/plain": [
       "512"
      ]
     },
     "execution_count": 6,
     "metadata": {},
     "output_type": "execute_result"
    }
   ],
   "source": [
    "embeddings_generator = embedding_model.embed(documents)\n",
    "embeddings_list = list(embeddings_generator)\n",
    "len(embeddings_list[0])  "
   ]
  },
  {
   "cell_type": "code",
   "execution_count": 7,
   "id": "932d4769-f035-4834-bd82-a9d6facea1ef",
   "metadata": {},
   "outputs": [
    {
     "name": "stdout",
     "output_type": "stream",
     "text": [
      "Minimal Embedding:\n",
      " -0.11726373885183883\n"
     ]
    }
   ],
   "source": [
    "print(\"Minimal Embedding:\\n\", min(embeddings_list[0]))"
   ]
  },
  {
   "cell_type": "markdown",
   "id": "74c9011d-3f35-4557-ae2c-8462803feeae",
   "metadata": {},
   "source": [
    "#### Cosine similarity"
   ]
  },
  {
   "cell_type": "code",
   "execution_count": 8,
   "id": "f27d1778-832a-418c-b26d-784c676f5851",
   "metadata": {},
   "outputs": [],
   "source": [
    "embed_query = list(embedding_model.embed([question]))"
   ]
  },
  {
   "cell_type": "code",
   "execution_count": 9,
   "id": "0fae256a-d81a-4495-bf5b-2549b800d1a7",
   "metadata": {},
   "outputs": [
    {
     "data": {
      "text/plain": [
       "np.float64(1.0)"
      ]
     },
     "execution_count": 9,
     "metadata": {},
     "output_type": "execute_result"
    }
   ],
   "source": [
    "import numpy as np\n",
    "np.linalg.norm(embed_query)"
   ]
  },
  {
   "cell_type": "code",
   "execution_count": 10,
   "id": "0b3d4179-9db1-42c3-a1c0-ef1bbc3ce3cf",
   "metadata": {},
   "outputs": [],
   "source": [
    "def model_embed(model_name, questions):\n",
    "    if type(questions) != list:\n",
    "        documents: List[str] = [questions]\n",
    "    else: \n",
    "        documents = questions\n",
    "\n",
    "    embedding_model = TextEmbedding(model_name)\n",
    "    embeddings_generator = embedding_model.embed(documents)\n",
    "    embeddings_list = list(embeddings_generator)\n",
    "\n",
    "    return embeddings_list"
   ]
  },
  {
   "cell_type": "code",
   "execution_count": 11,
   "id": "eb193a4e-6cda-4ad6-a250-f638e59d29f3",
   "metadata": {},
   "outputs": [],
   "source": [
    "embed_list = model_embed('jinaai/jina-embeddings-v2-small-en', question)"
   ]
  },
  {
   "cell_type": "code",
   "execution_count": 12,
   "id": "1f24d623-0be1-42f8-a11e-5de2d4a612e8",
   "metadata": {},
   "outputs": [
    {
     "name": "stdout",
     "output_type": "stream",
     "text": [
      "-0.11726373885183883\n"
     ]
    }
   ],
   "source": [
    "print(min(embed_list[0]))"
   ]
  },
  {
   "cell_type": "markdown",
   "id": "7ffab6d2-81c8-4df7-b205-c6b6861b9437",
   "metadata": {},
   "source": [
    "## Q2. Cosine similarity with another vector"
   ]
  },
  {
   "cell_type": "code",
   "execution_count": 34,
   "id": "4d61db9c-5d88-455f-b132-d1d9c8a4a1fd",
   "metadata": {},
   "outputs": [],
   "source": [
    "doc = 'Can I still join the course after the start date?'"
   ]
  },
  {
   "cell_type": "code",
   "execution_count": 35,
   "id": "812b58df-0ef5-4b20-b4b5-c42822706652",
   "metadata": {},
   "outputs": [],
   "source": [
    "embed_model = TextEmbedding('jinaai/jina-embeddings-v2-small-en')"
   ]
  },
  {
   "cell_type": "code",
   "execution_count": 36,
   "id": "4ddc59e7-9276-4f05-8a58-4fff05c09b02",
   "metadata": {},
   "outputs": [],
   "source": [
    "embed_query2 = list(embed_model.embed([question, doc]))"
   ]
  },
  {
   "cell_type": "code",
   "execution_count": 37,
   "id": "cf48b4d4-3747-4492-88e1-88f42c463ce0",
   "metadata": {},
   "outputs": [
    {
     "data": {
      "text/plain": [
       "2"
      ]
     },
     "execution_count": 37,
     "metadata": {},
     "output_type": "execute_result"
    }
   ],
   "source": [
    "len(embed_query2)"
   ]
  },
  {
   "cell_type": "code",
   "execution_count": 38,
   "id": "945cb1ef-8815-40f8-a031-0b7f2ef71dcd",
   "metadata": {},
   "outputs": [
    {
     "data": {
      "text/plain": [
       "np.float64(0.9008528895674548)"
      ]
     },
     "execution_count": 38,
     "metadata": {},
     "output_type": "execute_result"
    }
   ],
   "source": [
    "# Finding the dot product between the two questions\n",
    "embed_query2[0].dot(embed_query2[1])"
   ]
  },
  {
   "cell_type": "markdown",
   "id": "800f96c8-ff7d-46f9-91f8-99cf1f1f080f",
   "metadata": {},
   "source": [
    "## Q3. Ranking by cosine"
   ]
  },
  {
   "cell_type": "code",
   "execution_count": 39,
   "id": "608e6a74-6f21-46fe-992d-86b78cd2f066",
   "metadata": {},
   "outputs": [],
   "source": [
    "documents = [{'text': \"Yes, even if you don't register, you're still eligible to submit the homeworks.\\nBe aware, however, that there will be deadlines for turning in the final projects. So don't leave everything for the last minute.\",\n",
    "  'section': 'General course-related questions',\n",
    "  'question': 'Course - Can I still join the course after the start date?',\n",
    "  'course': 'data-engineering-zoomcamp'},\n",
    " {'text': 'Yes, we will keep all the materials after the course finishes, so you can follow the course at your own pace after it finishes.\\nYou can also continue looking at the homeworks and continue preparing for the next cohort. I guess you can also start working on your final capstone project.',\n",
    "  'section': 'General course-related questions',\n",
    "  'question': 'Course - Can I follow the course after it finishes?',\n",
    "  'course': 'data-engineering-zoomcamp'},\n",
    " {'text': \"The purpose of this document is to capture frequently asked technical questions\\nThe exact day and hour of the course will be 15th Jan 2024 at 17h00. The course will start with the first  “Office Hours'' live.1\\nSubscribe to course public Google Calendar (it works from Desktop only).\\nRegister before the course starts using this link.\\nJoin the course Telegram channel with announcements.\\nDon’t forget to register in DataTalks.Club's Slack and join the channel.\",\n",
    "  'section': 'General course-related questions',\n",
    "  'question': 'Course - When will the course start?',\n",
    "  'course': 'data-engineering-zoomcamp'},\n",
    " {'text': 'You can start by installing and setting up all the dependencies and requirements:\\nGoogle cloud account\\nGoogle Cloud SDK\\nPython 3 (installed with Anaconda)\\nTerraform\\nGit\\nLook over the prerequisites and syllabus to see if you are comfortable with these subjects.',\n",
    "  'section': 'General course-related questions',\n",
    "  'question': 'Course - What can I do before the course starts?',\n",
    "  'course': 'data-engineering-zoomcamp'},\n",
    " {'text': 'Star the repo! Share it with friends if you find it useful ❣️\\nCreate a PR if you see you can improve the text or the structure of the repository.',\n",
    "  'section': 'General course-related questions',\n",
    "  'question': 'How can we contribute to the course?',\n",
    "  'course': 'data-engineering-zoomcamp'}]"
   ]
  },
  {
   "cell_type": "code",
   "execution_count": 40,
   "id": "a22fda76-7d75-4650-8e5e-feb440f19b92",
   "metadata": {},
   "outputs": [],
   "source": [
    "model_name = 'jinaai/jina-embeddings-v2-small-en'\n",
    "embed_model = TextEmbedding('jinaai/jina-embeddings-v2-small-en')"
   ]
  },
  {
   "cell_type": "code",
   "execution_count": 41,
   "id": "6068be99-6545-4b25-aaad-74414cf0e42d",
   "metadata": {},
   "outputs": [],
   "source": [
    "# extract the text from the document\n",
    "# combined_text = [doc['text'] + \" \" + doc['question'] for doc in documents]\n",
    "combined_text = [doc['text'] for doc in documents]"
   ]
  },
  {
   "cell_type": "code",
   "execution_count": 42,
   "id": "38a3d399-aa84-4b57-a068-0c599e5f9613",
   "metadata": {},
   "outputs": [
    {
     "data": {
      "text/plain": [
       "[\"Yes, even if you don't register, you're still eligible to submit the homeworks.\\nBe aware, however, that there will be deadlines for turning in the final projects. So don't leave everything for the last minute.\",\n",
       " 'Yes, we will keep all the materials after the course finishes, so you can follow the course at your own pace after it finishes.\\nYou can also continue looking at the homeworks and continue preparing for the next cohort. I guess you can also start working on your final capstone project.',\n",
       " \"The purpose of this document is to capture frequently asked technical questions\\nThe exact day and hour of the course will be 15th Jan 2024 at 17h00. The course will start with the first  “Office Hours'' live.1\\nSubscribe to course public Google Calendar (it works from Desktop only).\\nRegister before the course starts using this link.\\nJoin the course Telegram channel with announcements.\\nDon’t forget to register in DataTalks.Club's Slack and join the channel.\",\n",
       " 'You can start by installing and setting up all the dependencies and requirements:\\nGoogle cloud account\\nGoogle Cloud SDK\\nPython 3 (installed with Anaconda)\\nTerraform\\nGit\\nLook over the prerequisites and syllabus to see if you are comfortable with these subjects.',\n",
       " 'Star the repo! Share it with friends if you find it useful ❣️\\nCreate a PR if you see you can improve the text or the structure of the repository.']"
      ]
     },
     "execution_count": 42,
     "metadata": {},
     "output_type": "execute_result"
    }
   ],
   "source": [
    "combined_text"
   ]
  },
  {
   "cell_type": "code",
   "execution_count": 43,
   "id": "23b7d6f8-c16e-452b-87ef-8796fbf24ad5",
   "metadata": {},
   "outputs": [],
   "source": [
    "# embed these in the model\n",
    "doc_embed = list(embed_model.embed(combined_text))"
   ]
  },
  {
   "cell_type": "code",
   "execution_count": 44,
   "id": "c7e3e830-a538-48d9-9b9b-bebbe259ebc3",
   "metadata": {},
   "outputs": [],
   "source": [
    "# Embeddings for the text field \n",
    "# doc_embed "
   ]
  },
  {
   "cell_type": "code",
   "execution_count": 45,
   "id": "ce7d4ab2-159d-4cac-9d17-18e2381cf172",
   "metadata": {},
   "outputs": [],
   "source": [
    "embedded_doc  = [\n",
    "    {**doc, 'embedding': emb}\n",
    "    for doc, emb in zip(documents, doc_embed)\n",
    "]"
   ]
  },
  {
   "cell_type": "code",
   "execution_count": 46,
   "id": "e02ae509-8c71-4559-93ad-695944fcb506",
   "metadata": {},
   "outputs": [],
   "source": [
    "# embedded_doc"
   ]
  },
  {
   "cell_type": "code",
   "execution_count": 47,
   "id": "e7b51a5c-b068-41d3-adb0-e1a1d3fc6a08",
   "metadata": {},
   "outputs": [],
   "source": [
    "# embed the question in the model\n",
    "new_embedding = list(embed_model.embed([question]))[0]"
   ]
  },
  {
   "cell_type": "code",
   "execution_count": 48,
   "id": "da21f6ad-3675-4f4d-bfe0-f350e994ad00",
   "metadata": {},
   "outputs": [],
   "source": [
    "# new_embedding"
   ]
  },
  {
   "cell_type": "code",
   "execution_count": 49,
   "id": "421bacdc-92bf-4922-a44f-5db7dee77fbe",
   "metadata": {},
   "outputs": [],
   "source": [
    "import numpy as np\n",
    "from sklearn.metrics.pairwise import cosine_similarity\n",
    "\n",
    "# convert the stored embeddings into a numpy array\n",
    "doc_embeddings_matrix = np.array([doc['embedding'] for doc in embedded_doc])"
   ]
  },
  {
   "cell_type": "code",
   "execution_count": 50,
   "id": "34baeeef-32c1-4937-8b9c-4b96729ee181",
   "metadata": {},
   "outputs": [],
   "source": [
    "# comuting the cosine similarity\n",
    "similarity = cosine_similarity([new_embedding], doc_embeddings_matrix)"
   ]
  },
  {
   "cell_type": "code",
   "execution_count": 51,
   "id": "b119b142-9f1c-4e39-9b08-8d59f640f317",
   "metadata": {},
   "outputs": [
    {
     "data": {
      "text/plain": [
       "array([[0.76296847, 0.81823782, 0.80853974, 0.7133079 , 0.73044992]])"
      ]
     },
     "execution_count": 51,
     "metadata": {},
     "output_type": "execute_result"
    }
   ],
   "source": [
    "similarity"
   ]
  },
  {
   "cell_type": "code",
   "execution_count": 52,
   "id": "74d3b1a2-1e77-4b0a-8e6f-81b8fa301c04",
   "metadata": {},
   "outputs": [],
   "source": [
    "# find the index of the  \n",
    "loc = np.where(similarity[0] == max(similarity[0]))"
   ]
  },
  {
   "cell_type": "code",
   "execution_count": 53,
   "id": "5bf8c5ca-00bf-49a6-a543-a1d616886fd3",
   "metadata": {},
   "outputs": [
    {
     "data": {
      "text/plain": [
       "tuple"
      ]
     },
     "execution_count": 53,
     "metadata": {},
     "output_type": "execute_result"
    }
   ],
   "source": [
    "type(loc)"
   ]
  },
  {
   "cell_type": "code",
   "execution_count": 54,
   "id": "c3a51b60-1d45-4688-8bbf-bed6e0d5f031",
   "metadata": {},
   "outputs": [
    {
     "name": "stdout",
     "output_type": "stream",
     "text": [
      "Location of the text that gives the closest answer: [1]\n"
     ]
    }
   ],
   "source": [
    "# finding the index of the document that it matched best to \n",
    "print(f\"Location of the text that gives the closest answer: {loc[0]}\")"
   ]
  },
  {
   "cell_type": "code",
   "execution_count": 55,
   "id": "6cfa8c43-559f-4215-98a2-dc2ff4740125",
   "metadata": {},
   "outputs": [
    {
     "data": {
      "text/plain": [
       "'Yes, we will keep all the materials after the course finishes, so you can follow the course at your own pace after it finishes.\\nYou can also continue looking at the homeworks and continue preparing for the next cohort. I guess you can also start working on your final capstone project.'"
      ]
     },
     "execution_count": 55,
     "metadata": {},
     "output_type": "execute_result"
    }
   ],
   "source": [
    "combined_text[loc[0][0]]"
   ]
  },
  {
   "cell_type": "code",
   "execution_count": 79,
   "id": "9efe1350-c0f2-43de-9ae4-5f553346f98f",
   "metadata": {},
   "outputs": [],
   "source": [
    "# 2nd technique to check results\n",
    "embed_list_text = model_embed(model_name, combined_text)"
   ]
  },
  {
   "cell_type": "code",
   "execution_count": 80,
   "id": "296c78f0-ad41-463f-9d96-3710cb1b5be2",
   "metadata": {},
   "outputs": [],
   "source": [
    "embed_list_question = model_embed(model_name, question)"
   ]
  },
  {
   "cell_type": "code",
   "execution_count": 81,
   "id": "092da040-a69b-4ab3-9f6d-4b0d42a7f0c5",
   "metadata": {},
   "outputs": [],
   "source": [
    "similarity = cosine_similarity(embed_list_question, embed_list_text)"
   ]
  },
  {
   "cell_type": "code",
   "execution_count": 82,
   "id": "3df2b710-dea8-46a2-b9d3-f80ba2b2c882",
   "metadata": {},
   "outputs": [
    {
     "data": {
      "text/plain": [
       "array([[0.76296847, 0.81823782, 0.80853974, 0.7133079 , 0.73044992]])"
      ]
     },
     "execution_count": 82,
     "metadata": {},
     "output_type": "execute_result"
    }
   ],
   "source": [
    "similarity"
   ]
  },
  {
   "cell_type": "code",
   "execution_count": null,
   "id": "bbd31b20-4787-49af-93fe-3ae7cd99d004",
   "metadata": {},
   "outputs": [],
   "source": []
  },
  {
   "cell_type": "markdown",
   "id": "ec2b6d5d-a730-4f1c-bc6f-77581d4ce06b",
   "metadata": {},
   "source": [
    "## Q4. Ranking by cosine, version two"
   ]
  },
  {
   "cell_type": "code",
   "execution_count": 60,
   "id": "25feb943-8434-466a-a9b8-561bad8984af",
   "metadata": {},
   "outputs": [],
   "source": [
    "# extract the question and text from the document\n",
    "full_text = [doc['text'] + \" \" + doc['question'] for doc in documents]"
   ]
  },
  {
   "cell_type": "code",
   "execution_count": 61,
   "id": "795dc608-1440-495a-ba25-1c826b356d32",
   "metadata": {},
   "outputs": [
    {
     "data": {
      "text/plain": [
       "[\"Yes, even if you don't register, you're still eligible to submit the homeworks.\\nBe aware, however, that there will be deadlines for turning in the final projects. So don't leave everything for the last minute. Course - Can I still join the course after the start date?\",\n",
       " 'Yes, we will keep all the materials after the course finishes, so you can follow the course at your own pace after it finishes.\\nYou can also continue looking at the homeworks and continue preparing for the next cohort. I guess you can also start working on your final capstone project. Course - Can I follow the course after it finishes?',\n",
       " \"The purpose of this document is to capture frequently asked technical questions\\nThe exact day and hour of the course will be 15th Jan 2024 at 17h00. The course will start with the first  “Office Hours'' live.1\\nSubscribe to course public Google Calendar (it works from Desktop only).\\nRegister before the course starts using this link.\\nJoin the course Telegram channel with announcements.\\nDon’t forget to register in DataTalks.Club's Slack and join the channel. Course - When will the course start?\",\n",
       " 'You can start by installing and setting up all the dependencies and requirements:\\nGoogle cloud account\\nGoogle Cloud SDK\\nPython 3 (installed with Anaconda)\\nTerraform\\nGit\\nLook over the prerequisites and syllabus to see if you are comfortable with these subjects. Course - What can I do before the course starts?',\n",
       " 'Star the repo! Share it with friends if you find it useful ❣️\\nCreate a PR if you see you can improve the text or the structure of the repository. How can we contribute to the course?']"
      ]
     },
     "execution_count": 61,
     "metadata": {},
     "output_type": "execute_result"
    }
   ],
   "source": [
    "full_text"
   ]
  },
  {
   "cell_type": "code",
   "execution_count": 62,
   "id": "b233d356-0b5d-4983-9e4c-4902aebcc285",
   "metadata": {},
   "outputs": [],
   "source": [
    "embed_model = TextEmbedding('jinaai/jina-embeddings-v2-small-en')"
   ]
  },
  {
   "cell_type": "code",
   "execution_count": 63,
   "id": "9bb23e0a-9223-43bf-b6b6-4200cd7564d5",
   "metadata": {},
   "outputs": [],
   "source": [
    "# embed these in the model\n",
    "full_text_embed = list(embed_model.embed(full_text))"
   ]
  },
  {
   "cell_type": "code",
   "execution_count": 64,
   "id": "575776c0-89cb-43da-b477-ad1604f121d9",
   "metadata": {},
   "outputs": [],
   "source": [
    "embedded_doc_full  = [\n",
    "    {**doc, 'embedding': emb}\n",
    "    for doc, emb in zip(documents, full_text_embed)\n",
    "]"
   ]
  },
  {
   "cell_type": "code",
   "execution_count": 65,
   "id": "bc9cb1eb-0baa-44c3-b772-a10e4807dd23",
   "metadata": {},
   "outputs": [],
   "source": [
    "# embed thw question in the model\n",
    "new_embedding = list(embed_model.embed([question]))[0]"
   ]
  },
  {
   "cell_type": "code",
   "execution_count": 66,
   "id": "caafe067-3bca-4c66-a0a7-38cdcddf66c8",
   "metadata": {},
   "outputs": [],
   "source": [
    "# convert the stored embeddings into a numpy array\n",
    "doc_full_embeddings_matrix = np.array([doc['embedding'] for doc in embedded_doc_full])"
   ]
  },
  {
   "cell_type": "code",
   "execution_count": 67,
   "id": "f3e0f9c0-1e2f-43bd-9239-501fffd727b8",
   "metadata": {},
   "outputs": [],
   "source": [
    "# comuting the cosine similarity\n",
    "similarity = cosine_similarity([new_embedding], doc_full_embeddings_matrix)"
   ]
  },
  {
   "cell_type": "code",
   "execution_count": 68,
   "id": "1dd8f92a-0b4f-44c9-a926-4da583e9ba45",
   "metadata": {},
   "outputs": [
    {
     "data": {
      "text/plain": [
       "array([[0.81935763, 0.81986123, 0.81003724, 0.75556917, 0.78801044]])"
      ]
     },
     "execution_count": 68,
     "metadata": {},
     "output_type": "execute_result"
    }
   ],
   "source": [
    "similarity"
   ]
  },
  {
   "cell_type": "code",
   "execution_count": 69,
   "id": "d06927b6-5cf6-4321-afbf-73bb27b3c6e9",
   "metadata": {},
   "outputs": [],
   "source": [
    "# find the index of the  \n",
    "loc = np.where(similarity[0] == max(similarity[0]))"
   ]
  },
  {
   "cell_type": "code",
   "execution_count": 70,
   "id": "dc3fe74b-a160-4c98-8106-664770dd8720",
   "metadata": {},
   "outputs": [
    {
     "name": "stdout",
     "output_type": "stream",
     "text": [
      "Location of the text that gives the closest answer: [1]\n"
     ]
    }
   ],
   "source": [
    "# finding the index of the document that it matched best to \n",
    "print(f\"Location of the text that gives the closest answer: {loc[0]}\")"
   ]
  },
  {
   "cell_type": "code",
   "execution_count": 71,
   "id": "b4e93f1d-661f-43c2-ad4f-bac45e260ef7",
   "metadata": {},
   "outputs": [
    {
     "data": {
      "text/plain": [
       "'Yes, we will keep all the materials after the course finishes, so you can follow the course at your own pace after it finishes.\\nYou can also continue looking at the homeworks and continue preparing for the next cohort. I guess you can also start working on your final capstone project. Course - Can I follow the course after it finishes?'"
      ]
     },
     "execution_count": 71,
     "metadata": {},
     "output_type": "execute_result"
    }
   ],
   "source": [
    "full_text[loc[0][0]]"
   ]
  },
  {
   "cell_type": "code",
   "execution_count": 76,
   "id": "9dcbe2ee-8b08-46f1-a411-233317cad71d",
   "metadata": {},
   "outputs": [],
   "source": [
    "# 2nd technique to check results\n",
    "embed_list_full = model_embed(model_name, full_text)"
   ]
  },
  {
   "cell_type": "code",
   "execution_count": 77,
   "id": "00b9ef9b-f753-4c8d-a8f3-33b3b43df3c9",
   "metadata": {},
   "outputs": [],
   "source": [
    "similarity_full = cosine_similarity(embed_list_question, embed_list_full)"
   ]
  },
  {
   "cell_type": "code",
   "execution_count": 78,
   "id": "a73c2675-312a-4a44-a0b0-ba2c50b4ee1a",
   "metadata": {},
   "outputs": [
    {
     "data": {
      "text/plain": [
       "array([[0.81935763, 0.81986123, 0.81003724, 0.75556917, 0.78801044]])"
      ]
     },
     "execution_count": 78,
     "metadata": {},
     "output_type": "execute_result"
    }
   ],
   "source": [
    "similarity_full"
   ]
  },
  {
   "cell_type": "code",
   "execution_count": null,
   "id": "256f9a3d-4bbc-4dfa-b6c5-36e57c5249ae",
   "metadata": {},
   "outputs": [],
   "source": []
  },
  {
   "cell_type": "markdown",
   "id": "b0ed38f9-79e1-4cdb-86e2-8e930a38a68c",
   "metadata": {},
   "source": [
    "## Q5. Selecting the embedding model"
   ]
  },
  {
   "cell_type": "code",
   "execution_count": 176,
   "id": "10e9256c-38b3-4751-a1f7-8f593bd5e168",
   "metadata": {},
   "outputs": [
    {
     "data": {
      "text/plain": [
       "[{'model': 'BAAI/bge-base-en',\n",
       "  'sources': {'hf': 'Qdrant/fast-bge-base-en',\n",
       "   'url': 'https://storage.googleapis.com/qdrant-fastembed/fast-bge-base-en.tar.gz',\n",
       "   '_deprecated_tar_struct': True},\n",
       "  'model_file': 'model_optimized.onnx',\n",
       "  'description': 'Text embeddings, Unimodal (text), English, 512 input tokens truncation, Prefixes for queries/documents: necessary, 2023 year.',\n",
       "  'license': 'mit',\n",
       "  'size_in_GB': 0.42,\n",
       "  'additional_files': [],\n",
       "  'dim': 768,\n",
       "  'tasks': {}},\n",
       " {'model': 'BAAI/bge-base-en-v1.5',\n",
       "  'sources': {'hf': 'qdrant/bge-base-en-v1.5-onnx-q',\n",
       "   'url': 'https://storage.googleapis.com/qdrant-fastembed/fast-bge-base-en-v1.5.tar.gz',\n",
       "   '_deprecated_tar_struct': True},\n",
       "  'model_file': 'model_optimized.onnx',\n",
       "  'description': 'Text embeddings, Unimodal (text), English, 512 input tokens truncation, Prefixes for queries/documents: not so necessary, 2023 year.',\n",
       "  'license': 'mit',\n",
       "  'size_in_GB': 0.21,\n",
       "  'additional_files': [],\n",
       "  'dim': 768,\n",
       "  'tasks': {}},\n",
       " {'model': 'BAAI/bge-large-en-v1.5',\n",
       "  'sources': {'hf': 'qdrant/bge-large-en-v1.5-onnx',\n",
       "   'url': None,\n",
       "   '_deprecated_tar_struct': False},\n",
       "  'model_file': 'model.onnx',\n",
       "  'description': 'Text embeddings, Unimodal (text), English, 512 input tokens truncation, Prefixes for queries/documents: not so necessary, 2023 year.',\n",
       "  'license': 'mit',\n",
       "  'size_in_GB': 1.2,\n",
       "  'additional_files': [],\n",
       "  'dim': 1024,\n",
       "  'tasks': {}},\n",
       " {'model': 'BAAI/bge-small-en',\n",
       "  'sources': {'hf': 'Qdrant/bge-small-en',\n",
       "   'url': 'https://storage.googleapis.com/qdrant-fastembed/BAAI-bge-small-en.tar.gz',\n",
       "   '_deprecated_tar_struct': True},\n",
       "  'model_file': 'model_optimized.onnx',\n",
       "  'description': 'Text embeddings, Unimodal (text), English, 512 input tokens truncation, Prefixes for queries/documents: necessary, 2023 year.',\n",
       "  'license': 'mit',\n",
       "  'size_in_GB': 0.13,\n",
       "  'additional_files': [],\n",
       "  'dim': 384,\n",
       "  'tasks': {}},\n",
       " {'model': 'BAAI/bge-small-en-v1.5',\n",
       "  'sources': {'hf': 'qdrant/bge-small-en-v1.5-onnx-q',\n",
       "   'url': None,\n",
       "   '_deprecated_tar_struct': False},\n",
       "  'model_file': 'model_optimized.onnx',\n",
       "  'description': 'Text embeddings, Unimodal (text), English, 512 input tokens truncation, Prefixes for queries/documents: not so necessary, 2023 year.',\n",
       "  'license': 'mit',\n",
       "  'size_in_GB': 0.067,\n",
       "  'additional_files': [],\n",
       "  'dim': 384,\n",
       "  'tasks': {}},\n",
       " {'model': 'BAAI/bge-small-zh-v1.5',\n",
       "  'sources': {'hf': 'Qdrant/bge-small-zh-v1.5',\n",
       "   'url': 'https://storage.googleapis.com/qdrant-fastembed/fast-bge-small-zh-v1.5.tar.gz',\n",
       "   '_deprecated_tar_struct': True},\n",
       "  'model_file': 'model_optimized.onnx',\n",
       "  'description': 'Text embeddings, Unimodal (text), Chinese, 512 input tokens truncation, Prefixes for queries/documents: not so necessary, 2023 year.',\n",
       "  'license': 'mit',\n",
       "  'size_in_GB': 0.09,\n",
       "  'additional_files': [],\n",
       "  'dim': 512,\n",
       "  'tasks': {}},\n",
       " {'model': 'mixedbread-ai/mxbai-embed-large-v1',\n",
       "  'sources': {'hf': 'mixedbread-ai/mxbai-embed-large-v1',\n",
       "   'url': None,\n",
       "   '_deprecated_tar_struct': False},\n",
       "  'model_file': 'onnx/model.onnx',\n",
       "  'description': 'Text embeddings, Unimodal (text), English, 512 input tokens truncation, Prefixes for queries/documents: necessary, 2024 year.',\n",
       "  'license': 'apache-2.0',\n",
       "  'size_in_GB': 0.64,\n",
       "  'additional_files': [],\n",
       "  'dim': 1024,\n",
       "  'tasks': {}},\n",
       " {'model': 'snowflake/snowflake-arctic-embed-xs',\n",
       "  'sources': {'hf': 'snowflake/snowflake-arctic-embed-xs',\n",
       "   'url': None,\n",
       "   '_deprecated_tar_struct': False},\n",
       "  'model_file': 'onnx/model.onnx',\n",
       "  'description': 'Text embeddings, Unimodal (text), English, 512 input tokens truncation, Prefixes for queries/documents: necessary, 2024 year.',\n",
       "  'license': 'apache-2.0',\n",
       "  'size_in_GB': 0.09,\n",
       "  'additional_files': [],\n",
       "  'dim': 384,\n",
       "  'tasks': {}},\n",
       " {'model': 'snowflake/snowflake-arctic-embed-s',\n",
       "  'sources': {'hf': 'snowflake/snowflake-arctic-embed-s',\n",
       "   'url': None,\n",
       "   '_deprecated_tar_struct': False},\n",
       "  'model_file': 'onnx/model.onnx',\n",
       "  'description': 'Text embeddings, Unimodal (text), English, 512 input tokens truncation, Prefixes for queries/documents: necessary, 2024 year.',\n",
       "  'license': 'apache-2.0',\n",
       "  'size_in_GB': 0.13,\n",
       "  'additional_files': [],\n",
       "  'dim': 384,\n",
       "  'tasks': {}},\n",
       " {'model': 'snowflake/snowflake-arctic-embed-m',\n",
       "  'sources': {'hf': 'Snowflake/snowflake-arctic-embed-m',\n",
       "   'url': None,\n",
       "   '_deprecated_tar_struct': False},\n",
       "  'model_file': 'onnx/model.onnx',\n",
       "  'description': 'Text embeddings, Unimodal (text), English, 512 input tokens truncation, Prefixes for queries/documents: necessary, 2024 year.',\n",
       "  'license': 'apache-2.0',\n",
       "  'size_in_GB': 0.43,\n",
       "  'additional_files': [],\n",
       "  'dim': 768,\n",
       "  'tasks': {}},\n",
       " {'model': 'snowflake/snowflake-arctic-embed-m-long',\n",
       "  'sources': {'hf': 'snowflake/snowflake-arctic-embed-m-long',\n",
       "   'url': None,\n",
       "   '_deprecated_tar_struct': False},\n",
       "  'model_file': 'onnx/model.onnx',\n",
       "  'description': 'Text embeddings, Unimodal (text), English, 2048 input tokens truncation, Prefixes for queries/documents: necessary, 2024 year.',\n",
       "  'license': 'apache-2.0',\n",
       "  'size_in_GB': 0.54,\n",
       "  'additional_files': [],\n",
       "  'dim': 768,\n",
       "  'tasks': {}},\n",
       " {'model': 'snowflake/snowflake-arctic-embed-l',\n",
       "  'sources': {'hf': 'snowflake/snowflake-arctic-embed-l',\n",
       "   'url': None,\n",
       "   '_deprecated_tar_struct': False},\n",
       "  'model_file': 'onnx/model.onnx',\n",
       "  'description': 'Text embeddings, Unimodal (text), English, 512 input tokens truncation, Prefixes for queries/documents: necessary, 2024 year.',\n",
       "  'license': 'apache-2.0',\n",
       "  'size_in_GB': 1.02,\n",
       "  'additional_files': [],\n",
       "  'dim': 1024,\n",
       "  'tasks': {}},\n",
       " {'model': 'jinaai/jina-clip-v1',\n",
       "  'sources': {'hf': 'jinaai/jina-clip-v1',\n",
       "   'url': None,\n",
       "   '_deprecated_tar_struct': False},\n",
       "  'model_file': 'onnx/text_model.onnx',\n",
       "  'description': 'Text embeddings, Multimodal (text&image), English, Prefixes for queries/documents: not necessary, 2024 year',\n",
       "  'license': 'apache-2.0',\n",
       "  'size_in_GB': 0.55,\n",
       "  'additional_files': [],\n",
       "  'dim': 768,\n",
       "  'tasks': {}},\n",
       " {'model': 'Qdrant/clip-ViT-B-32-text',\n",
       "  'sources': {'hf': 'Qdrant/clip-ViT-B-32-text',\n",
       "   'url': None,\n",
       "   '_deprecated_tar_struct': False},\n",
       "  'model_file': 'model.onnx',\n",
       "  'description': 'Text embeddings, Multimodal (text&image), English, 77 input tokens truncation, Prefixes for queries/documents: not necessary, 2021 year',\n",
       "  'license': 'mit',\n",
       "  'size_in_GB': 0.25,\n",
       "  'additional_files': [],\n",
       "  'dim': 512,\n",
       "  'tasks': {}},\n",
       " {'model': 'sentence-transformers/all-MiniLM-L6-v2',\n",
       "  'sources': {'hf': 'qdrant/all-MiniLM-L6-v2-onnx',\n",
       "   'url': 'https://storage.googleapis.com/qdrant-fastembed/sentence-transformers-all-MiniLM-L6-v2.tar.gz',\n",
       "   '_deprecated_tar_struct': True},\n",
       "  'model_file': 'model.onnx',\n",
       "  'description': 'Text embeddings, Unimodal (text), English, 256 input tokens truncation, Prefixes for queries/documents: not necessary, 2021 year.',\n",
       "  'license': 'apache-2.0',\n",
       "  'size_in_GB': 0.09,\n",
       "  'additional_files': [],\n",
       "  'dim': 384,\n",
       "  'tasks': {}},\n",
       " {'model': 'jinaai/jina-embeddings-v2-base-en',\n",
       "  'sources': {'hf': 'xenova/jina-embeddings-v2-base-en',\n",
       "   'url': None,\n",
       "   '_deprecated_tar_struct': False},\n",
       "  'model_file': 'onnx/model.onnx',\n",
       "  'description': 'Text embeddings, Unimodal (text), English, 8192 input tokens truncation, Prefixes for queries/documents: not necessary, 2023 year.',\n",
       "  'license': 'apache-2.0',\n",
       "  'size_in_GB': 0.52,\n",
       "  'additional_files': [],\n",
       "  'dim': 768,\n",
       "  'tasks': {}},\n",
       " {'model': 'jinaai/jina-embeddings-v2-small-en',\n",
       "  'sources': {'hf': 'xenova/jina-embeddings-v2-small-en',\n",
       "   'url': None,\n",
       "   '_deprecated_tar_struct': False},\n",
       "  'model_file': 'onnx/model.onnx',\n",
       "  'description': 'Text embeddings, Unimodal (text), English, 8192 input tokens truncation, Prefixes for queries/documents: not necessary, 2023 year.',\n",
       "  'license': 'apache-2.0',\n",
       "  'size_in_GB': 0.12,\n",
       "  'additional_files': [],\n",
       "  'dim': 512,\n",
       "  'tasks': {}},\n",
       " {'model': 'jinaai/jina-embeddings-v2-base-de',\n",
       "  'sources': {'hf': 'jinaai/jina-embeddings-v2-base-de',\n",
       "   'url': None,\n",
       "   '_deprecated_tar_struct': False},\n",
       "  'model_file': 'onnx/model_fp16.onnx',\n",
       "  'description': 'Text embeddings, Unimodal (text), Multilingual (German, English), 8192 input tokens truncation, Prefixes for queries/documents: not necessary, 2024 year.',\n",
       "  'license': 'apache-2.0',\n",
       "  'size_in_GB': 0.32,\n",
       "  'additional_files': [],\n",
       "  'dim': 768,\n",
       "  'tasks': {}},\n",
       " {'model': 'jinaai/jina-embeddings-v2-base-code',\n",
       "  'sources': {'hf': 'jinaai/jina-embeddings-v2-base-code',\n",
       "   'url': None,\n",
       "   '_deprecated_tar_struct': False},\n",
       "  'model_file': 'onnx/model.onnx',\n",
       "  'description': 'Text embeddings, Unimodal (text), Multilingual (English, 30 programming languages), 8192 input tokens truncation, Prefixes for queries/documents: not necessary, 2024 year.',\n",
       "  'license': 'apache-2.0',\n",
       "  'size_in_GB': 0.64,\n",
       "  'additional_files': [],\n",
       "  'dim': 768,\n",
       "  'tasks': {}},\n",
       " {'model': 'jinaai/jina-embeddings-v2-base-zh',\n",
       "  'sources': {'hf': 'jinaai/jina-embeddings-v2-base-zh',\n",
       "   'url': None,\n",
       "   '_deprecated_tar_struct': False},\n",
       "  'model_file': 'onnx/model.onnx',\n",
       "  'description': 'Text embeddings, Unimodal (text), supports mixed Chinese-English input text, 8192 input tokens truncation, Prefixes for queries/documents: not necessary, 2024 year.',\n",
       "  'license': 'apache-2.0',\n",
       "  'size_in_GB': 0.64,\n",
       "  'additional_files': [],\n",
       "  'dim': 768,\n",
       "  'tasks': {}},\n",
       " {'model': 'jinaai/jina-embeddings-v2-base-es',\n",
       "  'sources': {'hf': 'jinaai/jina-embeddings-v2-base-es',\n",
       "   'url': None,\n",
       "   '_deprecated_tar_struct': False},\n",
       "  'model_file': 'onnx/model.onnx',\n",
       "  'description': 'Text embeddings, Unimodal (text), supports mixed Spanish-English input text, 8192 input tokens truncation, Prefixes for queries/documents: not necessary, 2024 year.',\n",
       "  'license': 'apache-2.0',\n",
       "  'size_in_GB': 0.64,\n",
       "  'additional_files': [],\n",
       "  'dim': 768,\n",
       "  'tasks': {}},\n",
       " {'model': 'thenlper/gte-base',\n",
       "  'sources': {'hf': 'thenlper/gte-base',\n",
       "   'url': None,\n",
       "   '_deprecated_tar_struct': False},\n",
       "  'model_file': 'onnx/model.onnx',\n",
       "  'description': 'General text embeddings, Unimodal (text), supports English only input text, 512 input tokens truncation, Prefixes for queries/documents: not necessary, 2024 year.',\n",
       "  'license': 'mit',\n",
       "  'size_in_GB': 0.44,\n",
       "  'additional_files': [],\n",
       "  'dim': 768,\n",
       "  'tasks': {}},\n",
       " {'model': 'thenlper/gte-large',\n",
       "  'sources': {'hf': 'qdrant/gte-large-onnx',\n",
       "   'url': None,\n",
       "   '_deprecated_tar_struct': False},\n",
       "  'model_file': 'model.onnx',\n",
       "  'description': 'Text embeddings, Unimodal (text), English, 512 input tokens truncation, Prefixes for queries/documents: not necessary, 2023 year.',\n",
       "  'license': 'mit',\n",
       "  'size_in_GB': 1.2,\n",
       "  'additional_files': [],\n",
       "  'dim': 1024,\n",
       "  'tasks': {}},\n",
       " {'model': 'nomic-ai/nomic-embed-text-v1.5',\n",
       "  'sources': {'hf': 'nomic-ai/nomic-embed-text-v1.5',\n",
       "   'url': None,\n",
       "   '_deprecated_tar_struct': False},\n",
       "  'model_file': 'onnx/model.onnx',\n",
       "  'description': 'Text embeddings, Multimodal (text, image), English, 8192 input tokens truncation, Prefixes for queries/documents: necessary, 2024 year.',\n",
       "  'license': 'apache-2.0',\n",
       "  'size_in_GB': 0.52,\n",
       "  'additional_files': [],\n",
       "  'dim': 768,\n",
       "  'tasks': {}},\n",
       " {'model': 'nomic-ai/nomic-embed-text-v1.5-Q',\n",
       "  'sources': {'hf': 'nomic-ai/nomic-embed-text-v1.5',\n",
       "   'url': None,\n",
       "   '_deprecated_tar_struct': False},\n",
       "  'model_file': 'onnx/model_quantized.onnx',\n",
       "  'description': 'Text embeddings, Multimodal (text, image), English, 8192 input tokens truncation, Prefixes for queries/documents: necessary, 2024 year.',\n",
       "  'license': 'apache-2.0',\n",
       "  'size_in_GB': 0.13,\n",
       "  'additional_files': [],\n",
       "  'dim': 768,\n",
       "  'tasks': {}},\n",
       " {'model': 'nomic-ai/nomic-embed-text-v1',\n",
       "  'sources': {'hf': 'nomic-ai/nomic-embed-text-v1',\n",
       "   'url': None,\n",
       "   '_deprecated_tar_struct': False},\n",
       "  'model_file': 'onnx/model.onnx',\n",
       "  'description': 'Text embeddings, Multimodal (text, image), English, 8192 input tokens truncation, Prefixes for queries/documents: necessary, 2024 year.',\n",
       "  'license': 'apache-2.0',\n",
       "  'size_in_GB': 0.52,\n",
       "  'additional_files': [],\n",
       "  'dim': 768,\n",
       "  'tasks': {}},\n",
       " {'model': 'sentence-transformers/paraphrase-multilingual-MiniLM-L12-v2',\n",
       "  'sources': {'hf': 'qdrant/paraphrase-multilingual-MiniLM-L12-v2-onnx-Q',\n",
       "   'url': None,\n",
       "   '_deprecated_tar_struct': False},\n",
       "  'model_file': 'model_optimized.onnx',\n",
       "  'description': 'Text embeddings, Unimodal (text), Multilingual (~50 languages), 512 input tokens truncation, Prefixes for queries/documents: not necessary, 2019 year.',\n",
       "  'license': 'apache-2.0',\n",
       "  'size_in_GB': 0.22,\n",
       "  'additional_files': [],\n",
       "  'dim': 384,\n",
       "  'tasks': {}},\n",
       " {'model': 'sentence-transformers/paraphrase-multilingual-mpnet-base-v2',\n",
       "  'sources': {'hf': 'xenova/paraphrase-multilingual-mpnet-base-v2',\n",
       "   'url': None,\n",
       "   '_deprecated_tar_struct': False},\n",
       "  'model_file': 'onnx/model.onnx',\n",
       "  'description': 'Text embeddings, Unimodal (text), Multilingual (~50 languages), 384 input tokens truncation, Prefixes for queries/documents: not necessary, 2021 year.',\n",
       "  'license': 'apache-2.0',\n",
       "  'size_in_GB': 1.0,\n",
       "  'additional_files': [],\n",
       "  'dim': 768,\n",
       "  'tasks': {}},\n",
       " {'model': 'intfloat/multilingual-e5-large',\n",
       "  'sources': {'hf': 'qdrant/multilingual-e5-large-onnx',\n",
       "   'url': 'https://storage.googleapis.com/qdrant-fastembed/fast-multilingual-e5-large.tar.gz',\n",
       "   '_deprecated_tar_struct': True},\n",
       "  'model_file': 'model.onnx',\n",
       "  'description': 'Text embeddings, Unimodal (text), Multilingual (~100 languages), 512 input tokens truncation, Prefixes for queries/documents: necessary, 2024 year.',\n",
       "  'license': 'mit',\n",
       "  'size_in_GB': 2.24,\n",
       "  'additional_files': ['model.onnx_data'],\n",
       "  'dim': 1024,\n",
       "  'tasks': {}},\n",
       " {'model': 'jinaai/jina-embeddings-v3',\n",
       "  'sources': {'hf': 'jinaai/jina-embeddings-v3',\n",
       "   'url': None,\n",
       "   '_deprecated_tar_struct': False},\n",
       "  'model_file': 'onnx/model.onnx',\n",
       "  'description': 'Multi-task unimodal (text) embedding model, multi-lingual (~100), 1024 tokens truncation, and 8192 sequence length. Prefixes for queries/documents: not necessary, 2024 year.',\n",
       "  'license': 'cc-by-nc-4.0',\n",
       "  'size_in_GB': 2.29,\n",
       "  'additional_files': ['onnx/model.onnx_data'],\n",
       "  'dim': 1024,\n",
       "  'tasks': {'retrieval.query': 0,\n",
       "   'retrieval.passage': 1,\n",
       "   'separation': 2,\n",
       "   'classification': 3,\n",
       "   'text-matching': 4}}]"
      ]
     },
     "execution_count": 176,
     "metadata": {},
     "output_type": "execute_result"
    }
   ],
   "source": [
    "TextEmbedding.list_supported_models()"
   ]
  },
  {
   "cell_type": "code",
   "execution_count": 177,
   "id": "32e26394-fd3e-42f5-bdce-9599ce51b330",
   "metadata": {},
   "outputs": [],
   "source": [
    "dim = []\n",
    "\n",
    "for model in TextEmbedding.list_supported_models():\n",
    "    dim.append(model[\"dim\"])"
   ]
  },
  {
   "cell_type": "code",
   "execution_count": 178,
   "id": "62ff5c7d-707f-4889-8c21-84f4e37174ab",
   "metadata": {},
   "outputs": [
    {
     "name": "stdout",
     "output_type": "stream",
     "text": [
      "the smallest dimensionality for models in fastembed: 384\n"
     ]
    }
   ],
   "source": [
    "print(f\"the smallest dimensionality for models in fastembed: {min(dim)}\")"
   ]
  },
  {
   "cell_type": "code",
   "execution_count": 179,
   "id": "fd457437-5dc6-4de4-8e14-436f03c10b3b",
   "metadata": {},
   "outputs": [],
   "source": [
    "baai_model_handle = \"BAAI/bge-small-en\""
   ]
  },
  {
   "cell_type": "code",
   "execution_count": null,
   "id": "1eb8953e-7411-4da3-ae94-2aea3a3c104b",
   "metadata": {},
   "outputs": [],
   "source": [
    "# get the dimension for the BAAI model\n",
    "baai_dim = []\n"
   ]
  },
  {
   "cell_type": "code",
   "execution_count": null,
   "id": "08cf6aff-e7d7-4d1e-8551-225bd7c93c8c",
   "metadata": {},
   "outputs": [],
   "source": [
    "384"
   ]
  },
  {
   "cell_type": "markdown",
   "id": "680169ef-024c-4a1c-a236-24a86f3f1d14",
   "metadata": {},
   "source": [
    "## Q6. Indexing with qdrant"
   ]
  },
  {
   "cell_type": "code",
   "execution_count": 180,
   "id": "9ac54187-9322-4d09-b965-63333e172b54",
   "metadata": {},
   "outputs": [],
   "source": [
    "import requests \n",
    "\n",
    "docs_url = 'https://github.com/alexeygrigorev/llm-rag-workshop/raw/main/notebooks/documents.json'\n",
    "docs_response = requests.get(docs_url)\n",
    "documents_raw = docs_response.json()\n",
    "\n",
    "\n",
    "documents = []\n",
    "\n",
    "for course in documents_raw:\n",
    "    course_name = course['course']\n",
    "    if course_name != 'machine-learning-zoomcamp':\n",
    "        continue\n",
    "\n",
    "    for doc in course['documents']:\n",
    "        doc['course'] = course_name\n",
    "        documents.append(doc)"
   ]
  },
  {
   "cell_type": "code",
   "execution_count": 181,
   "id": "049853ae-75a8-47e3-a9e2-fa68df56feee",
   "metadata": {},
   "outputs": [],
   "source": [
    "# Import the modules from the qdrant-client package\n",
    "from qdrant_client import QdrantClient, models"
   ]
  },
  {
   "cell_type": "code",
   "execution_count": 184,
   "id": "f014bade-57f6-4881-b421-6d7bd24827dd",
   "metadata": {},
   "outputs": [],
   "source": [
    "qd_client = QdrantClient(\"http://localhost:6333\") #connecting to local Qdrant instance"
   ]
  },
  {
   "cell_type": "code",
   "execution_count": 192,
   "id": "edbb9e5e-0923-49ce-994e-fb73951ca18b",
   "metadata": {},
   "outputs": [
    {
     "data": {
      "text/plain": [
       "True"
      ]
     },
     "execution_count": 192,
     "metadata": {},
     "output_type": "execute_result"
    }
   ],
   "source": [
    "# Define the collection name\n",
    "collection_name = \"zoomcamp-homework\"\n",
    "\n",
    "# If the collection already exists, delete it\n",
    "qd_client.delete_collection(collection_name=collection_name)"
   ]
  },
  {
   "cell_type": "code",
   "execution_count": 188,
   "id": "13c0307e-9b19-44b1-8dce-f82d7d71ffe0",
   "metadata": {},
   "outputs": [
    {
     "name": "stdout",
     "output_type": "stream",
     "text": [
      "{\n",
      "  \"model\": \"BAAI/bge-small-en\",\n",
      "  \"sources\": {\n",
      "    \"hf\": \"Qdrant/bge-small-en\",\n",
      "    \"url\": \"https://storage.googleapis.com/qdrant-fastembed/BAAI-bge-small-en.tar.gz\",\n",
      "    \"_deprecated_tar_struct\": true\n",
      "  },\n",
      "  \"model_file\": \"model_optimized.onnx\",\n",
      "  \"description\": \"Text embeddings, Unimodal (text), English, 512 input tokens truncation, Prefixes for queries/documents: necessary, 2023 year.\",\n",
      "  \"license\": \"mit\",\n",
      "  \"size_in_GB\": 0.13,\n",
      "  \"additional_files\": [],\n",
      "  \"dim\": 384,\n",
      "  \"tasks\": {}\n",
      "}\n",
      "\n",
      "\n",
      "Dimension of the model is: 384\n"
     ]
    }
   ],
   "source": [
    "for model in TextEmbedding.list_supported_models():\n",
    "    if model[\"model\"] == baai_model_handle:\n",
    "        EMBEDDING_DIMENSIONALITY = model[\"dim\"]\n",
    "        print(json.dumps(model, indent=2))\n",
    "        print(\"\\n\")\n",
    "        print(f\"Dimension of the model is: {EMBEDDING_DIMENSIONALITY}\")"
   ]
  },
  {
   "cell_type": "code",
   "execution_count": 193,
   "id": "2e090a3a-20d1-4dd4-b589-f7058354884a",
   "metadata": {},
   "outputs": [
    {
     "data": {
      "text/plain": [
       "True"
      ]
     },
     "execution_count": 193,
     "metadata": {},
     "output_type": "execute_result"
    }
   ],
   "source": [
    "# Creating a collection\n",
    "\n",
    "# Create the collection with specified vector parameters\n",
    "qd_client.create_collection(\n",
    "    collection_name=collection_name,\n",
    "    vectors_config=models.VectorParams(\n",
    "        size=EMBEDDING_DIMENSIONALITY,  # Dimensionality of the vectors\n",
    "        distance=models.Distance.COSINE  # Distance metric for similarity search\n",
    "    )\n",
    ")"
   ]
  },
  {
   "cell_type": "code",
   "execution_count": 7,
   "id": "d21b0508-1fb4-4c2d-9462-597490a16d1d",
   "metadata": {},
   "outputs": [
    {
     "data": {
      "text/plain": [
       "UpdateResult(operation_id=1, status=<UpdateStatus.COMPLETED: 'completed'>)"
      ]
     },
     "execution_count": 7,
     "metadata": {},
     "output_type": "execute_result"
    }
   ],
   "source": [
    "# # Defining the payload index\n",
    "# qd_client.create_payload_index(\n",
    "#     collection_name=collection_name,\n",
    "#     field_name=\"course\",\n",
    "#     field_schema=\"keyword\"\n",
    "# )"
   ]
  },
  {
   "cell_type": "code",
   "execution_count": 194,
   "id": "9df49404-ce6f-48fa-b870-a0fc5ac22a95",
   "metadata": {},
   "outputs": [],
   "source": [
    "# Append the individual points to the collection\n",
    "points = []\n",
    "\n",
    "for i, doc in enumerate(documents):\n",
    "    text = doc['question'] + ' ' + doc['text']\n",
    "    vector = models.Document(text=text, model=baai_model_handle)\n",
    "    point = models.PointStruct(\n",
    "        id=i,\n",
    "        vector=vector,\n",
    "        # payload=doc\n",
    "    )\n",
    "    points.append(point)"
   ]
  },
  {
   "cell_type": "code",
   "execution_count": 195,
   "id": "5f516478-b07a-474c-ae6c-81a182ca20a1",
   "metadata": {},
   "outputs": [
    {
     "data": {
      "text/plain": [
       "UpdateResult(operation_id=0, status=<UpdateStatus.COMPLETED: 'completed'>)"
      ]
     },
     "execution_count": 195,
     "metadata": {},
     "output_type": "execute_result"
    }
   ],
   "source": [
    "qd_client.upsert(\n",
    "    collection_name=collection_name,\n",
    "    points=points\n",
    ")"
   ]
  },
  {
   "cell_type": "code",
   "execution_count": 203,
   "id": "ca396b64-f71e-46a3-9405-89cac1653a4a",
   "metadata": {},
   "outputs": [],
   "source": [
    "def search(query, limit=1):\n",
    "\n",
    "    results = qd_client.query_points(\n",
    "        collection_name=collection_name,\n",
    "        query=models.Document( #embed the query text locally with \"jinaai/jina-embeddings-v2-small-en\"\n",
    "            text=query,\n",
    "            model=baai_model_handle \n",
    "        ),\n",
    "        limit=limit, # top closest matches\n",
    "        with_payload=False #to get metadata in the results\n",
    "    )\n",
    "\n",
    "    return results"
   ]
  },
  {
   "cell_type": "code",
   "execution_count": 204,
   "id": "e150b4ea-fc75-40b7-bdb6-455dee041f17",
   "metadata": {},
   "outputs": [],
   "source": [
    "result = search(question)"
   ]
  },
  {
   "cell_type": "code",
   "execution_count": 205,
   "id": "ab562a88-b81c-49ef-ae32-c132e2a59596",
   "metadata": {},
   "outputs": [
    {
     "data": {
      "text/plain": [
       "QueryResponse(points=[ScoredPoint(id=14, version=0, score=0.8703172, payload=None, vector=None, shard_key=None, order_value=None)])"
      ]
     },
     "execution_count": 205,
     "metadata": {},
     "output_type": "execute_result"
    }
   ],
   "source": [
    "result"
   ]
  },
  {
   "cell_type": "code",
   "execution_count": null,
   "id": "e6457f5a-9464-4c2d-8d29-8c75ce1ef9da",
   "metadata": {},
   "outputs": [],
   "source": []
  }
 ],
 "metadata": {
  "kernelspec": {
   "display_name": "Python 3 (ipykernel)",
   "language": "python",
   "name": "python3"
  },
  "language_info": {
   "codemirror_mode": {
    "name": "ipython",
    "version": 3
   },
   "file_extension": ".py",
   "mimetype": "text/x-python",
   "name": "python",
   "nbconvert_exporter": "python",
   "pygments_lexer": "ipython3",
   "version": "3.12.1"
  }
 },
 "nbformat": 4,
 "nbformat_minor": 5
}
