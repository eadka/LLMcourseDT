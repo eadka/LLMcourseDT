{
 "cells": [
  {
   "cell_type": "markdown",
   "id": "3f2557bc-dd9d-4935-a6c0-53faa2f11e21",
   "metadata": {},
   "source": [
    "Text based seqarch is based on matching keyword or exact words. This becomes a limitation when working with text heavy documents or images, audio, video or code.\n",
    "\n",
    "Vector search: Vector search can match a word to videos, or pictures or even different words which mean the same .. works on semantic similarity between vectorized data representations (embeddings) or level of meanings."
   ]
  },
  {
   "cell_type": "markdown",
   "id": "46f77cc8-9fa0-44f2-998d-9fe0937d0aed",
   "metadata": {},
   "source": [
    "Qdrant is an open-source vector search engine that helps with very fast and large searches. It's built in the programming language called Rust to enable speed of search.  "
   ]
  },
  {
   "cell_type": "markdown",
   "id": "8bf57f5b-4806-44c0-9748-feb7b665e3ca",
   "metadata": {},
   "source": [
    "#### Step 0: Setup environment\n",
    "1. Run a docker command to pull a docker image for Qdrant and run the container\n",
    "   - In VS studio run the below command\n",
    "     *docker pull qdrant/qdrant*\n",
    "2. Install python libraries with a pip install: *pip install qdrant-client fastembed*"
   ]
  },
  {
   "cell_type": "markdown",
   "id": "ef88caba-3d56-42a5-853f-35faa61b8f9d",
   "metadata": {},
   "source": [
    "#### Step 1: Import Required Libraries & Connect to Qdrant\n",
    "*from qdrant_client import QdrantClient, models*"
   ]
  },
  {
   "cell_type": "markdown",
   "id": "6024af14-1852-46f2-99cf-e605a769e762",
   "metadata": {},
   "source": [
    "##### Initialize the client\n",
    "client = QdrantClient(\"http://localhost:6333\") #connecting to local Qdrant instance"
   ]
  },
  {
   "cell_type": "markdown",
   "id": "9f476eed-7cff-4283-b08a-4c3d156ddb42",
   "metadata": {},
   "source": [
    "#### Step 2: Study the Dataset\n",
    "To build a working vector search solution (and, more generally, to understand if/when/how it’s needed), it's good to study the dataset and figure out the nature and structure of the data we’re working with, for example:\n",
    "\n",
    "modality — is it text, images, videos, a combination?\n",
    "specifics — if it’s text: language used, how big are the text pieces, are there any special characters, etc.\n",
    "It will help us define:\n",
    "\n",
    "the right data \"schema\" (what to vectorize, what to store as metadata, etc);\n",
    "the right embedding model (the best fit based on the domain, precision & resource requirements)."
   ]
  },
  {
   "cell_type": "markdown",
   "id": "c2633275-6302-4a0a-8760-1750a7c55008",
   "metadata": {},
   "source": [
    "#### Step3: Choosing Fastembed with Qdrant\n",
    "\n",
    "Qdrant uses fastembed under the hood to turn text into vectors."
   ]
  },
  {
   "cell_type": "markdown",
   "id": "aafb50aa-e751-46c3-9bb4-fe1503ca96ce",
   "metadata": {},
   "source": [
    "#### Step4:\n",
    "To start building a vector search solution in Qdrant, Qdrant needs a collection to be created. \n",
    "\n",
    "Point: Data point: Answer + Meta data. Points have 3 items \n",
    "1. id\n",
    "2. several embedding vectors provided by GINA and along with the\n",
    "3. meta data which is called pay load and in our case it is the course + section\n",
    "\n",
    "A collection is a container of all data points"
   ]
  },
  {
   "cell_type": "markdown",
   "id": "0258af1a-8cbe-43cf-ba86-28c29351aa19",
   "metadata": {},
   "source": [
    "#### Step5: Create, Embed & Insert Points into the Collection\n",
    "\n",
    "Points are the core data entities in Qdrant. Each point consists of:\n",
    "\n",
    "- ID. A unique identifier. Qdrant supports both 64-bit unsigned integers and UUIDs.\n",
    "- Vector. The embedding that represents the data point in vector space.\n",
    "- Payload (optional). Additional metadata as key-value pairs."
   ]
  },
  {
   "cell_type": "markdown",
   "id": "a63976ca-ab1f-48a5-9ab4-c26307586493",
   "metadata": {},
   "source": [
    "The points are embedded and uploaded into the collection where the vector index gets built"
   ]
  },
  {
   "cell_type": "markdown",
   "id": "cbaefba2-ae56-41e9-a905-e85d85688162",
   "metadata": {},
   "source": [
    "**Study the data visually**\n",
    "The uploaded data in the Qdrant Web UI at *http://localhost:6333/dashboard* to study semantic similarity visually."
   ]
  },
  {
   "cell_type": "markdown",
   "id": "baf7cc00-44cf-4eed-b955-8478710e6b74",
   "metadata": {},
   "source": [
    "#### Step6: Running a Similarity Search\n",
    "We find the most similar text vector in Qdrant to a given query embedding - the most relevant answer to a given question.\n",
    "\n",
    "How Similarity Search Works\n",
    "1. Qdrant compares the query vector to stored vectors (based on a vector index) using the distance metric defined when creating the collection.\n",
    "\n",
    "2. The closest matches are returned, ranked by similarity.Vector index is built for approximate nearest neighbor (ANN) search, making large-scale vector search feasible."
   ]
  },
  {
   "cell_type": "markdown",
   "id": "9cf86958-d27b-484b-86f5-164982eaf0f9",
   "metadata": {},
   "source": [
    "#### Step 7: Running a Similarity Search with Filters\n",
    "\n",
    "We can update the search by ensuring some keywords are present within the search text. Qdrant also allows use of words like should, must_not, range, and more. \n"
   ]
  },
  {
   "cell_type": "markdown",
   "id": "ebf11cca-45cd-4ab1-be09-c776562f3cc7",
   "metadata": {},
   "source": [
    "To enable efficient filtering, we need to turn on indexing of payload fields."
   ]
  },
  {
   "cell_type": "markdown",
   "id": "28d4f6d8-4843-497c-98e7-1c18aad52b04",
   "metadata": {},
   "source": [
    "client.create_payload_index(\n",
    "    collection_name=collection_name,\n",
    "    field_name=\"course\",\n",
    "    field_schema=\"keyword\" # exact matching on string metadata fields\n",
    ")"
   ]
  },
  {
   "cell_type": "markdown",
   "id": "3cffc045-3134-4067-8093-e2cce78bcb50",
   "metadata": {},
   "source": [
    "update our search function"
   ]
  },
  {
   "cell_type": "markdown",
   "id": "7904f3dc-ee66-47d9-9479-2b78d1504771",
   "metadata": {},
   "source": [
    "def search_in_course(query, course=\"mlops-zoomcamp\", limit=1):\n",
    "\n",
    "    results = client.query_points(\n",
    "        collection_name=collection_name,\n",
    "        query=models.Document( #embed the query text locally with \"jinaai/jina-embeddings-v2-small-en\"\n",
    "            text=query,\n",
    "            model=model_handle\n",
    "        ),\n",
    "        query_filter=models.Filter( # filter by course name\n",
    "            must=[\n",
    "                models.FieldCondition(\n",
    "                    key=\"course\",\n",
    "                    match=models.MatchValue(value=course)\n",
    "                )\n",
    "            ]\n",
    "        ),\n",
    "        limit=limit, # top closest matches\n",
    "        with_payload=True #to get metadata in the results\n",
    "    )\n",
    "\n",
    "    return results"
   ]
  },
  {
   "cell_type": "code",
   "execution_count": null,
   "id": "53820208-98a3-47e8-9776-9c56c0306192",
   "metadata": {},
   "outputs": [],
   "source": []
  }
 ],
 "metadata": {
  "kernelspec": {
   "display_name": "Python 3 (ipykernel)",
   "language": "python",
   "name": "python3"
  },
  "language_info": {
   "codemirror_mode": {
    "name": "ipython",
    "version": 3
   },
   "file_extension": ".py",
   "mimetype": "text/x-python",
   "name": "python",
   "nbconvert_exporter": "python",
   "pygments_lexer": "ipython3",
   "version": "3.12.1"
  }
 },
 "nbformat": 4,
 "nbformat_minor": 5
}
