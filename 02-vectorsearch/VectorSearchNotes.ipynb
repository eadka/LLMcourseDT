{
 "cells": [
  {
   "cell_type": "markdown",
   "id": "3f2557bc-dd9d-4935-a6c0-53faa2f11e21",
   "metadata": {},
   "source": [
    "Text based seqarch is based on matching keyword or exact words. This becomes a limitation when working with text heavy documents or images, audio, video or code.\n",
    "\n",
    "Vector search: Vector search can match a word to videos, or pictures or even different words which mean the same .. works on semantic similarity between vectorized data representations (embeddings) or level of meanings."
   ]
  },
  {
   "cell_type": "markdown",
   "id": "46f77cc8-9fa0-44f2-998d-9fe0937d0aed",
   "metadata": {},
   "source": [
    "Qdrant is an open-source vector search engine that helps with very fast and large searches. It's built in the programming language called Rust to enable speed of search.  "
   ]
  },
  {
   "cell_type": "markdown",
   "id": "8bf57f5b-4806-44c0-9748-feb7b665e3ca",
   "metadata": {},
   "source": [
    "#### Step 0: Setup environment\n",
    "1. Run a docker command to pull a docker image for Qdrant and run the container\n",
    "   - In VS studio run the below command\n",
    "     *docker pull qdrant/qdrant*\n",
    "2. Install python libraries with a pip install: *pip install qdrant-client fastembed*"
   ]
  },
  {
   "cell_type": "markdown",
   "id": "ef88caba-3d56-42a5-853f-35faa61b8f9d",
   "metadata": {},
   "source": [
    "#### Step 1: Import Required Libraries & Connect to Qdrant\n",
    "*from qdrant_client import QdrantClient, models*"
   ]
  },
  {
   "cell_type": "markdown",
   "id": "6024af14-1852-46f2-99cf-e605a769e762",
   "metadata": {},
   "source": [
    "##### Initialize the client\n",
    "client = QdrantClient(\"http://localhost:6333\") #connecting to local Qdrant instance"
   ]
  },
  {
   "cell_type": "markdown",
   "id": "9f476eed-7cff-4283-b08a-4c3d156ddb42",
   "metadata": {},
   "source": [
    "#### Step 2: Study the Dataset\n",
    "To build a working vector search solution (and, more generally, to understand if/when/how it’s needed), it's good to study the dataset and figure out the nature and structure of the data we’re working with, for example:\n",
    "\n",
    "modality — is it text, images, videos, a combination?\n",
    "specifics — if it’s text: language used, how big are the text pieces, are there any special characters, etc.\n",
    "It will help us define:\n",
    "\n",
    "the right data \"schema\" (what to vectorize, what to store as metadata, etc);\n",
    "the right embedding model (the best fit based on the domain, precision & resource requirements)."
   ]
  },
  {
   "cell_type": "code",
   "execution_count": null,
   "id": "d28e63a7-ce95-4477-afdb-f9dfc0bbd014",
   "metadata": {},
   "outputs": [],
   "source": [
    "#### Step3: Choosing Fastembed with Qdrant\n",
    "\n",
    "We choose Fastembed here to \n",
    "Qdrant uses fastembed under the hood to turn text into vectors."
   ]
  },
  {
   "cell_type": "markdown",
   "id": "aafb50aa-e751-46c3-9bb4-fe1503ca96ce",
   "metadata": {},
   "source": [
    "#### Step4:\n",
    "To start building a vector search solution in Qdrant, Qdrant needs a collection to be created. \n",
    "\n",
    "Point: Data point: Answer + Meta data. Points have 3 items \n",
    "1. id\n",
    "2. several embedding vectors provided by GINA and along with the\n",
    "3. meta data which is called pay load and in our case it is the course + section\n",
    "\n",
    "A collection is a container of all data points"
   ]
  },
  {
   "cell_type": "code",
   "execution_count": null,
   "id": "af54d312-7359-48a4-8566-0ddd9ee9fe59",
   "metadata": {},
   "outputs": [],
   "source": []
  }
 ],
 "metadata": {
  "kernelspec": {
   "display_name": "Python 3 (ipykernel)",
   "language": "python",
   "name": "python3"
  },
  "language_info": {
   "codemirror_mode": {
    "name": "ipython",
    "version": 3
   },
   "file_extension": ".py",
   "mimetype": "text/x-python",
   "name": "python",
   "nbconvert_exporter": "python",
   "pygments_lexer": "ipython3",
   "version": "3.12.1"
  }
 },
 "nbformat": 4,
 "nbformat_minor": 5
}
