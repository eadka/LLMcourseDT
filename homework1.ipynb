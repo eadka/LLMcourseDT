{
 "cells": [
  {
   "cell_type": "code",
   "execution_count": 1,
   "id": "1cf19c23-279f-408e-9d5c-5d30714f4310",
   "metadata": {},
   "outputs": [],
   "source": [
    "# Q1: Running Elastic"
   ]
  },
  {
   "cell_type": "code",
   "execution_count": 7,
   "id": "454a6a85-0bcc-45ab-9ec4-80a17a2ed4dd",
   "metadata": {},
   "outputs": [],
   "source": [
    "import requests \n",
    "\n",
    "docs_url = 'https://github.com/DataTalksClub/llm-zoomcamp/blob/main/01-intro/documents.json?raw=1'\n",
    "docs_response = requests.get(docs_url)\n",
    "documents_raw = docs_response.json()\n",
    "\n",
    "documents = []\n",
    "\n",
    "for course in documents_raw:\n",
    "    course_name = course['course']\n",
    "\n",
    "    for doc in course['documents']:\n",
    "        doc['course'] = course_name\n",
    "        documents.append(doc)"
   ]
  },
  {
   "cell_type": "code",
   "execution_count": 10,
   "id": "df784bf0-9817-4af6-b753-6c98043e02a6",
   "metadata": {},
   "outputs": [],
   "source": [
    "import minsearch\n",
    "\n",
    "# Indexing the document\n",
    "index = minsearch.Index(\n",
    "    text_fields=[\"question\",\"text\",\"section\"],\n",
    "    keyword_fields=[\"course\"]\n",
    ")"
   ]
  },
  {
   "cell_type": "code",
   "execution_count": 11,
   "id": "3f7a49c8-9fd7-4d03-9175-64b77449f3de",
   "metadata": {},
   "outputs": [],
   "source": [
    "from elasticsearch8 import Elasticsearch"
   ]
  },
  {
   "cell_type": "code",
   "execution_count": 12,
   "id": "e17598fa-e7dd-4a18-9f6a-ef8438c16796",
   "metadata": {},
   "outputs": [],
   "source": [
    "es_client = Elasticsearch('http://localhost:9200')"
   ]
  },
  {
   "cell_type": "code",
   "execution_count": 13,
   "id": "481f68ce-4d60-4c6d-900e-d1cea658d6d2",
   "metadata": {},
   "outputs": [
    {
     "data": {
      "text/plain": [
       "ObjectApiResponse({'name': 'b6c8b8d46627', 'cluster_name': 'docker-cluster', 'cluster_uuid': 'klGDbvnHQlaT-VkUGrMzpQ', 'version': {'number': '8.17.6', 'build_flavor': 'default', 'build_type': 'docker', 'build_hash': 'dbcbbbd0bc4924cfeb28929dc05d82d662c527b7', 'build_date': '2025-04-30T14:07:12.231372970Z', 'build_snapshot': False, 'lucene_version': '9.12.0', 'minimum_wire_compatibility_version': '7.17.0', 'minimum_index_compatibility_version': '7.0.0'}, 'tagline': 'You Know, for Search'})"
      ]
     },
     "execution_count": 13,
     "metadata": {},
     "output_type": "execute_result"
    }
   ],
   "source": [
    "es_client.info()"
   ]
  },
  {
   "cell_type": "code",
   "execution_count": 14,
   "id": "ccd339b9-2642-42a9-834f-b24fcdadb8e0",
   "metadata": {},
   "outputs": [],
   "source": [
    "# Q2: Indexing the data"
   ]
  },
  {
   "cell_type": "code",
   "execution_count": 15,
   "id": "12ca5da8-bd75-4440-9dda-365376f86db7",
   "metadata": {},
   "outputs": [
    {
     "data": {
      "text/plain": [
       "ObjectApiResponse({'acknowledged': True, 'shards_acknowledged': True, 'index': 'course-questions'})"
      ]
     },
     "execution_count": 15,
     "metadata": {},
     "output_type": "execute_result"
    }
   ],
   "source": [
    "index_settings = {\n",
    "    \"settings\": {\n",
    "        \"number_of_shards\": 1,\n",
    "        \"number_of_replicas\": 0\n",
    "    },\n",
    "    \"mappings\": {\n",
    "        \"properties\": {\n",
    "            \"text\": {\"type\": \"text\"},\n",
    "            \"section\": {\"type\": \"text\"},\n",
    "            \"question\": {\"type\": \"text\"},\n",
    "            \"course\": {\"type\": \"keyword\"} \n",
    "        }\n",
    "    }\n",
    "}\n",
    "\n",
    "index_name = \"course-questions\"\n",
    "\n",
    "es_client.indices.create(index=index_name, body=index_settings)"
   ]
  },
  {
   "cell_type": "code",
   "execution_count": 16,
   "id": "0aec6618-1f1e-425d-ac0b-77c1a2e6412f",
   "metadata": {},
   "outputs": [
    {
     "name": "stderr",
     "output_type": "stream",
     "text": [
      "/usr/local/python/3.12.1/lib/python3.12/site-packages/tqdm/auto.py:21: TqdmWarning: IProgress not found. Please update jupyter and ipywidgets. See https://ipywidgets.readthedocs.io/en/stable/user_install.html\n",
      "  from .autonotebook import tqdm as notebook_tqdm\n"
     ]
    }
   ],
   "source": [
    "from tqdm.auto import tqdm"
   ]
  },
  {
   "cell_type": "code",
   "execution_count": 17,
   "id": "d9114929-8b84-4b99-bef3-0a8328a65390",
   "metadata": {},
   "outputs": [
    {
     "name": "stderr",
     "output_type": "stream",
     "text": [
      "100%|██████████████████████████████████████████████████████████████████████████████████████████████████████████████████████████████████████████████████████████████████| 948/948 [00:07<00:00, 121.49it/s]\n"
     ]
    }
   ],
   "source": [
    "for doc in tqdm(documents):\n",
    "    es_client.index(index=index_name, document=doc)"
   ]
  },
  {
   "cell_type": "code",
   "execution_count": 18,
   "id": "aa52636d-c9c3-4095-9490-7a52a4a16daf",
   "metadata": {},
   "outputs": [],
   "source": [
    "# Q3: Searching"
   ]
  },
  {
   "cell_type": "code",
   "execution_count": 19,
   "id": "6ccdfdb8-a0a1-4915-85fb-2215b5170c15",
   "metadata": {},
   "outputs": [],
   "source": [
    "query = \"How do execute a command on a Kubernetes pod?\""
   ]
  },
  {
   "cell_type": "code",
   "execution_count": 20,
   "id": "fee3710d-1bbc-47bf-a565-23b7d156a098",
   "metadata": {},
   "outputs": [],
   "source": [
    "def elastic_search(query):\n",
    "\n",
    "    search_query = {\n",
    "        \"size\": 5,\n",
    "        \"query\": {\n",
    "                \"bool\": {\n",
    "                    \"must\": {\n",
    "                        \"multi_match\": {\n",
    "                            \"query\": query,\n",
    "                            \"fields\": [\"question^4\", \"text\"],\n",
    "                            \"type\": \"best_fields\"\n",
    "                        }\n",
    "                    },\n",
    "                    # \"filter\": {\n",
    "                    #     \"term\": {\n",
    "                    #         \"course\": \"data-engineering-zoomcamp\"\n",
    "                    #     }\n",
    "                    # }\n",
    "                }\n",
    "            }\n",
    "        # }\n",
    "    }\n",
    "\n",
    "    response = es_client.search(index=index_name, body=search_query)\n",
    "\n",
    "    result_docs = []\n",
    "    for hit in response['hits']['hits']:\n",
    "        result_docs.append(hit['_score'])\n",
    "\n",
    "    return result_docs"
   ]
  },
  {
   "cell_type": "code",
   "execution_count": 21,
   "id": "0db13478-097f-4653-82d4-bf5884ae5796",
   "metadata": {},
   "outputs": [
    {
     "data": {
      "text/plain": [
       "[44.50556, 35.433445, 33.70974, 33.2635, 32.589073]"
      ]
     },
     "execution_count": 21,
     "metadata": {},
     "output_type": "execute_result"
    }
   ],
   "source": [
    "elastic_search(query)"
   ]
  },
  {
   "cell_type": "code",
   "execution_count": 22,
   "id": "f6c822ee-3475-4fac-ac10-e32efa06dabc",
   "metadata": {},
   "outputs": [],
   "source": [
    "# Q4: Filtering"
   ]
  },
  {
   "cell_type": "code",
   "execution_count": 23,
   "id": "43a77855-5c02-40b0-8836-c0036bcc9d08",
   "metadata": {},
   "outputs": [],
   "source": [
    "query2 =  \"How do copy a file to a Docker container?\""
   ]
  },
  {
   "cell_type": "code",
   "execution_count": 46,
   "id": "2398b6e1-5ad5-44cd-81df-0035cc21d228",
   "metadata": {},
   "outputs": [],
   "source": [
    "def elastic_search2(query):\n",
    "\n",
    "    search_query = {\n",
    "        \"size\": 3,\n",
    "        \"query\": {\n",
    "                \"bool\": {\n",
    "                    \"must\": {\n",
    "                        \"multi_match\": {\n",
    "                            \"query\": query,\n",
    "                            \"fields\": [\"question^4\", \"text\"],\n",
    "                            \"type\": \"best_fields\"\n",
    "                        }\n",
    "                    },\n",
    "                    \"filter\": {\n",
    "                        \"term\": {\n",
    "                            \"course\": \"machine-learning-zoomcamp\"\n",
    "                        }\n",
    "                    }\n",
    "                }\n",
    "            }\n",
    "        # }\n",
    "    }\n",
    "\n",
    "    response = es_client.search(index=index_name, body=search_query)\n",
    "\n",
    "    result_docs = []\n",
    "    for hit in response['hits']['hits']:\n",
    "        result_docs.append(hit['_source'])\n",
    "\n",
    "    return result_docs"
   ]
  },
  {
   "cell_type": "code",
   "execution_count": 47,
   "id": "20c05ac7-e30d-4de7-aa7d-38f08bbec95c",
   "metadata": {},
   "outputs": [
    {
     "data": {
      "text/plain": [
       "[{'text': 'Launch the container image in interactive mode and overriding the entrypoint, so that it starts a bash command.\\ndocker run -it --entrypoint bash <image>\\nIf the container is already running, execute a command in the specific container:\\ndocker ps (find the container-id)\\ndocker exec -it <container-id> bash\\n(Marcos MJD)',\n",
       "  'section': '5. Deploying Machine Learning Models',\n",
       "  'question': 'How do I debug a docker container?',\n",
       "  'course': 'machine-learning-zoomcamp'},\n",
       " {'text': \"You can copy files from your local machine into a Docker container using the docker cp command. Here's how to do it:\\nTo copy a file or directory from your local machine into a running Docker container, you can use the `docker cp command`. The basic syntax is as follows:\\ndocker cp /path/to/local/file_or_directory container_id:/path/in/container\\nHrithik Kumar Advani\",\n",
       "  'section': '5. Deploying Machine Learning Models',\n",
       "  'question': 'How do I copy files from my local machine to docker container?',\n",
       "  'course': 'machine-learning-zoomcamp'},\n",
       " {'text': 'You can copy files from your local machine into a Docker container using the docker cp command. Here\\'s how to do it:\\nIn the Dockerfile, you can provide the folder containing the files that you want to copy over. The basic syntax is as follows:\\nCOPY [\"src/predict.py\", \"models/xgb_model.bin\", \"./\"]\\t\\t\\t\\t\\t\\t\\t\\t\\t\\t\\tGopakumar Gopinathan',\n",
       "  'section': '5. Deploying Machine Learning Models',\n",
       "  'question': 'How do I copy files from a different folder into docker container’s working directory?',\n",
       "  'course': 'machine-learning-zoomcamp'}]"
      ]
     },
     "execution_count": 47,
     "metadata": {},
     "output_type": "execute_result"
    }
   ],
   "source": [
    "elastic_search2(query2)"
   ]
  },
  {
   "cell_type": "code",
   "execution_count": 48,
   "id": "e5e8577a-1e64-45a7-827a-f20d77176835",
   "metadata": {},
   "outputs": [],
   "source": [
    "# Q5: Building a prompt"
   ]
  },
  {
   "cell_type": "code",
   "execution_count": 49,
   "id": "948cb036-0da3-4ce2-af2c-148ec0d3798a",
   "metadata": {},
   "outputs": [],
   "source": [
    "context_template = \"\"\"\n",
    "Q: {question}\n",
    "A: {text}\n",
    "\"\"\".strip()"
   ]
  },
  {
   "cell_type": "code",
   "execution_count": 50,
   "id": "d37af0c1-31c4-4715-a791-a9684e972562",
   "metadata": {},
   "outputs": [],
   "source": [
    "q = \"How do copy a file to a Docker container?\"\n",
    "search_results = elastic_search2(q)"
   ]
  },
  {
   "cell_type": "code",
   "execution_count": 51,
   "id": "1a9c6a8e-a21e-4498-9db5-f995997bb2fa",
   "metadata": {},
   "outputs": [],
   "source": [
    "prompt_template = \"\"\"\n",
    "You're a course teaching assistant. Answer the QUESTION based on the CONTEXT from the FAQ database.\n",
    "Use only the facts from the CONTEXT when answering the QUESTION.\n",
    "\n",
    "QUESTION: {question}\n",
    "\n",
    "CONTEXT:\n",
    "{context}\n",
    "\"\"\".strip()"
   ]
  },
  {
   "cell_type": "code",
   "execution_count": 52,
   "id": "a8befdb4-a05c-4bda-b8ac-36878a025d1a",
   "metadata": {},
   "outputs": [],
   "source": [
    "context=\"\"\n",
    "\n",
    "for doc in search_results:\n",
    "    context = context + context_template.format(question=doc['question'],text=doc['text']) + \"\\n\\n\""
   ]
  },
  {
   "cell_type": "code",
   "execution_count": 53,
   "id": "f9f463ed-4e4e-46b6-bf01-64ddb28818ef",
   "metadata": {},
   "outputs": [],
   "source": [
    "prompt = prompt_template.format(question=q, context=context).strip()"
   ]
  },
  {
   "cell_type": "code",
   "execution_count": 54,
   "id": "970b0400-d402-47c2-82fc-969df56dd4bb",
   "metadata": {},
   "outputs": [
    {
     "data": {
      "text/plain": [
       "'You\\'re a course teaching assistant. Answer the QUESTION based on the CONTEXT from the FAQ database.\\nUse only the facts from the CONTEXT when answering the QUESTION.\\n\\nQUESTION: How do copy a file to a Docker container?\\n\\nCONTEXT:\\nQ: How do I debug a docker container?\\nA: Launch the container image in interactive mode and overriding the entrypoint, so that it starts a bash command.\\ndocker run -it --entrypoint bash <image>\\nIf the container is already running, execute a command in the specific container:\\ndocker ps (find the container-id)\\ndocker exec -it <container-id> bash\\n(Marcos MJD)\\n\\nQ: How do I copy files from my local machine to docker container?\\nA: You can copy files from your local machine into a Docker container using the docker cp command. Here\\'s how to do it:\\nTo copy a file or directory from your local machine into a running Docker container, you can use the `docker cp command`. The basic syntax is as follows:\\ndocker cp /path/to/local/file_or_directory container_id:/path/in/container\\nHrithik Kumar Advani\\n\\nQ: How do I copy files from a different folder into docker container’s working directory?\\nA: You can copy files from your local machine into a Docker container using the docker cp command. Here\\'s how to do it:\\nIn the Dockerfile, you can provide the folder containing the files that you want to copy over. The basic syntax is as follows:\\nCOPY [\"src/predict.py\", \"models/xgb_model.bin\", \"./\"]\\t\\t\\t\\t\\t\\t\\t\\t\\t\\t\\tGopakumar Gopinathan'"
      ]
     },
     "execution_count": 54,
     "metadata": {},
     "output_type": "execute_result"
    }
   ],
   "source": [
    "prompt"
   ]
  },
  {
   "cell_type": "code",
   "execution_count": 55,
   "id": "ff900b23-b244-474e-9b8f-275a7577a539",
   "metadata": {},
   "outputs": [
    {
     "data": {
      "text/plain": [
       "1446"
      ]
     },
     "execution_count": 55,
     "metadata": {},
     "output_type": "execute_result"
    }
   ],
   "source": [
    "len(prompt)"
   ]
  },
  {
   "cell_type": "code",
   "execution_count": 60,
   "id": "a9ced85a-2042-4e4c-a5c0-c2f0f5960628",
   "metadata": {},
   "outputs": [],
   "source": [
    "# Q6: Tokens"
   ]
  },
  {
   "cell_type": "code",
   "execution_count": 61,
   "id": "bd41a6dc-89ad-4edb-952b-62fd7ced83bf",
   "metadata": {},
   "outputs": [],
   "source": [
    "import tiktoken"
   ]
  },
  {
   "cell_type": "code",
   "execution_count": 62,
   "id": "5f9bb393-0a1a-495c-a71b-0e667b03144b",
   "metadata": {},
   "outputs": [],
   "source": [
    "encoding = tiktoken.encoding_for_model(\"gpt-4o\")"
   ]
  },
  {
   "cell_type": "code",
   "execution_count": 63,
   "id": "27266a0e-24ff-4d77-9444-9bc3777909c5",
   "metadata": {},
   "outputs": [
    {
     "data": {
      "text/plain": [
       "b\"You're\""
      ]
     },
     "execution_count": 63,
     "metadata": {},
     "output_type": "execute_result"
    }
   ],
   "source": [
    "encoding.decode_single_token_bytes(63842)"
   ]
  },
  {
   "cell_type": "code",
   "execution_count": 64,
   "id": "330b46a9-0bc7-46fa-84f2-6138f7ca2893",
   "metadata": {},
   "outputs": [
    {
     "data": {
      "text/plain": [
       "320"
      ]
     },
     "execution_count": 64,
     "metadata": {},
     "output_type": "execute_result"
    }
   ],
   "source": [
    "len(encoding.encode(prompt))"
   ]
  },
  {
   "cell_type": "code",
   "execution_count": 65,
   "id": "de84a7bb-2621-490b-91d1-6e6d6e31146a",
   "metadata": {},
   "outputs": [],
   "source": [
    "# Generating the answer"
   ]
  },
  {
   "cell_type": "code",
   "execution_count": 66,
   "id": "fe598a5c-04db-41b5-afe6-6a523369d011",
   "metadata": {},
   "outputs": [],
   "source": [
    "from openai import OpenAI"
   ]
  },
  {
   "cell_type": "code",
   "execution_count": 67,
   "id": "b3ec948c-4bae-4eac-9da0-fe23b43a6c21",
   "metadata": {},
   "outputs": [],
   "source": [
    "client = OpenAI()"
   ]
  },
  {
   "cell_type": "code",
   "execution_count": 74,
   "id": "aad479db-69d3-4149-a149-2569cd9ffad3",
   "metadata": {},
   "outputs": [],
   "source": [
    "def llm(prompt):\n",
    "    response=client.chat.completions.create(\n",
    "        model = 'gpt-4o',\n",
    "        messages=[{\"role\": \"user\", \"content\":prompt}]\n",
    "    )\n",
    "    return response.choices[0].message.content"
   ]
  },
  {
   "cell_type": "code",
   "execution_count": 81,
   "id": "c02f43da-9cb0-4f3b-a3a5-9692a1884c13",
   "metadata": {},
   "outputs": [],
   "source": [
    "def search(query):\n",
    "    boost = {'question':4.0}\n",
    "\n",
    "    results = index.search(\n",
    "        query = query,\n",
    "        filter_dict= {'course':'machine-learning-zoomcamp'},\n",
    "        boost_dict=boost,\n",
    "        num_results=3\n",
    "        )\n",
    "    return results"
   ]
  },
  {
   "cell_type": "code",
   "execution_count": 82,
   "id": "8ca4c4c1-aa2d-4414-8136-d0ded4c84687",
   "metadata": {},
   "outputs": [],
   "source": [
    "def build_prompt(query, search_results):\n",
    "    prompt_template = \"\"\"\n",
    "    You're a course teaching assistant. Answer the QUESTION based on the CONTEXT from the FAQ database.\n",
    "    Use only the facts from the CONTEXT when answering the QUESTION.\n",
    "    \n",
    "    QUESTION: {question}\n",
    "    \n",
    "    CONTEXT:\n",
    "    {context}\n",
    "    \"\"\".strip()\n",
    "\n",
    "    context=\"\"\n",
    "\n",
    "    for doc in search_results:\n",
    "        context = context + context_template.format(question=doc['question'],text=doc['text']) + \"\\n\\n\"\n",
    "\n",
    "    prompt = prompt_template.format(question=q, context=context).strip()\n",
    "    return prompt"
   ]
  },
  {
   "cell_type": "code",
   "execution_count": 88,
   "id": "3cb21171-2807-46e7-876c-e2218b99f2ff",
   "metadata": {},
   "outputs": [
    {
     "data": {
      "text/plain": [
       "\"You can copy files from your local machine into a Docker container using the `docker cp` command. Here's the basic syntax to copy a file or directory from your local machine into a running Docker container:\\n\\n```bash\\ndocker cp /path/to/local/file_or_directory container_id:/path/in/container\\n```\""
      ]
     },
     "execution_count": 88,
     "metadata": {},
     "output_type": "execute_result"
    }
   ],
   "source": [
    "llm(prompt)"
   ]
  },
  {
   "cell_type": "code",
   "execution_count": null,
   "id": "144861ac-5134-4a79-99b6-dc7b58cd0d46",
   "metadata": {},
   "outputs": [],
   "source": [
    "# Calculating the costs"
   ]
  },
  {
   "cell_type": "code",
   "execution_count": 92,
   "id": "0f344ce2-8885-4fe2-930d-f632fa5b1fb9",
   "metadata": {},
   "outputs": [],
   "source": [
    "# Cost for 1000 requests = $4.5\n",
    "Cost = (1000*150*0.005/1000)+(1000*250*0.015/1000)"
   ]
  },
  {
   "cell_type": "code",
   "execution_count": 93,
   "id": "79e82943-d3fe-4fae-8498-6323acd6f163",
   "metadata": {},
   "outputs": [
    {
     "data": {
      "text/plain": [
       "4.5"
      ]
     },
     "execution_count": 93,
     "metadata": {},
     "output_type": "execute_result"
    }
   ],
   "source": [
    "Cost"
   ]
  },
  {
   "cell_type": "code",
   "execution_count": null,
   "id": "4e840f99-1a11-4756-be49-f2e624d56fb7",
   "metadata": {},
   "outputs": [],
   "source": []
  }
 ],
 "metadata": {
  "kernelspec": {
   "display_name": "Python 3 (ipykernel)",
   "language": "python",
   "name": "python3"
  },
  "language_info": {
   "codemirror_mode": {
    "name": "ipython",
    "version": 3
   },
   "file_extension": ".py",
   "mimetype": "text/x-python",
   "name": "python",
   "nbconvert_exporter": "python",
   "pygments_lexer": "ipython3",
   "version": "3.12.1"
  }
 },
 "nbformat": 4,
 "nbformat_minor": 5
}
